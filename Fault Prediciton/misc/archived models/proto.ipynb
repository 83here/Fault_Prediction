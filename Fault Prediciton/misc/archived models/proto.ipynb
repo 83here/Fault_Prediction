{
 "cells": [
  {
   "cell_type": "markdown",
   "metadata": {},
   "source": [
    "## AUTOENCODER FOR DETECTION"
   ]
  },
  {
   "cell_type": "code",
   "execution_count": 13,
   "metadata": {},
   "outputs": [
    {
     "name": "stdout",
     "output_type": "stream",
     "text": [
      "Epoch [1/20], Loss: 0.1636\n",
      "Epoch [2/20], Loss: 0.0438\n",
      "Epoch [3/20], Loss: 0.0323\n",
      "Epoch [4/20], Loss: 0.0253\n",
      "Epoch [5/20], Loss: 0.0240\n",
      "Epoch [6/20], Loss: 0.0232\n",
      "Epoch [7/20], Loss: 0.0226\n",
      "Epoch [8/20], Loss: 0.0219\n",
      "Epoch [9/20], Loss: 0.0221\n",
      "Epoch [10/20], Loss: 0.0212\n",
      "Epoch [11/20], Loss: 0.0198\n",
      "Epoch [12/20], Loss: 0.0139\n",
      "Epoch [13/20], Loss: 0.0101\n",
      "Epoch [14/20], Loss: 0.0093\n",
      "Epoch [15/20], Loss: 0.0083\n",
      "Epoch [16/20], Loss: 0.0079\n",
      "Epoch [17/20], Loss: 0.0076\n",
      "Epoch [18/20], Loss: 0.0078\n",
      "Epoch [19/20], Loss: 0.0071\n",
      "Epoch [20/20], Loss: 0.0067\n",
      "Average reconstruction error on fault data: 0.0117\n"
     ]
    }
   ],
   "source": [
    "import torch\n",
    "import torch.nn as nn\n",
    "import torch.optim as optim\n",
    "import pandas as pd\n",
    "from torch.utils.data import DataLoader, Dataset\n",
    "from sklearn.preprocessing import MinMaxScaler\n",
    "import numpy as np\n",
    "\n",
    "# Define the dataset class\n",
    "class VibrationDataset(Dataset):\n",
    "    def __init__(self, csv_file):\n",
    "        data = pd.read_csv(csv_file)\n",
    "        self.scaler = MinMaxScaler()\n",
    "        self.data = self.scaler.fit_transform(data[['x', 'y', 'z']].values)\n",
    "        self.time_steps = data['time'].values\n",
    "\n",
    "    def __len__(self):\n",
    "        return len(self.data)\n",
    "\n",
    "    def __getitem__(self, idx):\n",
    "        return torch.tensor(self.data[idx], dtype=torch.float32)\n",
    "\n",
    "# Define the autoencoder model with added complexity\n",
    "class ComplexAutoencoder(nn.Module):\n",
    "    def __init__(self):\n",
    "        super(ComplexAutoencoder, self).__init__()\n",
    "        # Encoder with more layers and dropout\n",
    "        self.encoder = nn.Sequential(\n",
    "            nn.Linear(3, 128),\n",
    "            nn.ReLU(),\n",
    "            nn.Dropout(0.2),\n",
    "            nn.Linear(128, 64),\n",
    "            nn.ReLU(),\n",
    "            nn.Dropout(0.2),\n",
    "            nn.Linear(64, 32),\n",
    "            nn.ReLU(),\n",
    "            nn.Linear(32, 16),\n",
    "            nn.ReLU()\n",
    "        )\n",
    "        # Decoder with more layers and dropout\n",
    "        self.decoder = nn.Sequential(\n",
    "            nn.Linear(16, 32),\n",
    "            nn.ReLU(),\n",
    "            nn.Dropout(0.2),\n",
    "            nn.Linear(32, 64),\n",
    "            nn.ReLU(),\n",
    "            nn.Dropout(0.2),\n",
    "            nn.Linear(64, 128),\n",
    "            nn.ReLU(),\n",
    "            nn.Linear(128, 3)\n",
    "        )\n",
    "\n",
    "    def forward(self, x):\n",
    "        encoded = self.encoder(x)\n",
    "        decoded = self.decoder(encoded)\n",
    "        return decoded\n",
    "\n",
    "# Load datasets\n",
    "non_fault_dataset = VibrationDataset('non_fault_data.csv')\n",
    "fault_dataset = VibrationDataset('slow_expanding_fault_data.csv')\n",
    "\n",
    "# Create data loaders\n",
    "non_fault_loader = DataLoader(non_fault_dataset, batch_size=32, shuffle=True)\n",
    "\n",
    "# Initialize the model, loss function, and optimizer\n",
    "model = ComplexAutoencoder()\n",
    "criterion = nn.MSELoss()\n",
    "optimizer = optim.Adam(model.parameters(), lr=1e-3)\n",
    "\n",
    "# Train the autoencoder on non-fault data\n",
    "num_epochs = 20\n",
    "model.train()\n",
    "for epoch in range(num_epochs):\n",
    "    total_loss = 0\n",
    "    for data in non_fault_loader:\n",
    "        optimizer.zero_grad()\n",
    "        output = model(data)\n",
    "        loss = criterion(output, data)\n",
    "        loss.backward()\n",
    "        optimizer.step()\n",
    "        total_loss += loss.item()\n",
    "    print(f\"Epoch [{epoch+1}/{num_epochs}], Loss: {total_loss / len(non_fault_loader):.4f}\")\n",
    "\n",
    "# Evaluate reconstruction error on fault data\n",
    "fault_loader = DataLoader(fault_dataset, batch_size=32, shuffle=False)\n",
    "model.eval()\n",
    "reconstruction_errors = []\n",
    "with torch.no_grad():\n",
    "    for data in fault_loader:\n",
    "        output = model(data)\n",
    "        loss = criterion(output, data)\n",
    "        reconstruction_errors.append(loss.item())\n",
    "\n",
    "# Print the average reconstruction error on fault data\n",
    "print(f\"Average reconstruction error on fault data: {np.mean(reconstruction_errors):.4f}\")\n"
   ]
  },
  {
   "cell_type": "markdown",
   "metadata": {},
   "source": [
    "## LIVE STREAMING DATA"
   ]
  },
  {
   "cell_type": "code",
   "execution_count": 1,
   "metadata": {},
   "outputs": [
    {
     "name": "stdout",
     "output_type": "stream",
     "text": [
      "Epoch [10/100], Loss: 0.0026\n",
      "Epoch [20/100], Loss: 0.0021\n",
      "Epoch [30/100], Loss: 0.0003\n",
      "Epoch [40/100], Loss: 0.0002\n",
      "Epoch [50/100], Loss: 0.0002\n",
      "Epoch [60/100], Loss: 0.0002\n",
      "Epoch [70/100], Loss: 0.0002\n",
      "Epoch [80/100], Loss: 0.0002\n",
      "Epoch [90/100], Loss: 0.0002\n",
      "Epoch [100/100], Loss: 0.0002\n",
      "Average reconstruction error on non_fault data: 0.0002\n",
      "Anomalies detected in fault data:\n",
      "Sample 0 - Reconstruction Error: 0.0001 (Normal)\n",
      "Sample 1 - Reconstruction Error: 0.0009 (Above threshold)\n",
      "Sample 2 - Reconstruction Error: 0.0005 (Above threshold)\n",
      "Sample 3 - Reconstruction Error: 0.0000 (Normal)\n",
      "Sample 4 - Reconstruction Error: 0.0007 (Above threshold)\n",
      "Sample 5 - Reconstruction Error: 0.0007 (Above threshold)\n",
      "Sample 6 - Reconstruction Error: 0.0000 (Normal)\n",
      "Sample 7 - Reconstruction Error: 0.0008 (Above threshold)\n",
      "Sample 8 - Reconstruction Error: 0.0008 (Above threshold)\n",
      "Sample 9 - Reconstruction Error: 0.0000 (Normal)\n",
      "Sample 10 - Reconstruction Error: 0.0003 (Above threshold)\n",
      "Sample 11 - Reconstruction Error: 0.0011 (Above threshold)\n",
      "Sample 12 - Reconstruction Error: 0.0001 (Normal)\n",
      "Sample 13 - Reconstruction Error: 0.0001 (Normal)\n",
      "Sample 14 - Reconstruction Error: 0.0014 (Above threshold)\n",
      "Sample 15 - Reconstruction Error: 0.0001 (Normal)\n",
      "Sample 16 - Reconstruction Error: 0.0001 (Normal)\n",
      "Sample 17 - Reconstruction Error: 0.0013 (Above threshold)\n",
      "Sample 18 - Reconstruction Error: 0.0001 (Normal)\n",
      "Sample 19 - Reconstruction Error: 0.0001 (Normal)\n",
      "Sample 20 - Reconstruction Error: 0.0011 (Above threshold)\n",
      "Sample 21 - Reconstruction Error: 0.0001 (Normal)\n",
      "Sample 22 - Reconstruction Error: 0.0001 (Normal)\n",
      "Sample 23 - Reconstruction Error: 0.0011 (Above threshold)\n",
      "Sample 24 - Reconstruction Error: 0.0003 (Above threshold)\n",
      "Sample 25 - Reconstruction Error: 0.0001 (Normal)\n",
      "Sample 26 - Reconstruction Error: 0.0010 (Above threshold)\n",
      "Sample 27 - Reconstruction Error: 0.0005 (Above threshold)\n",
      "Sample 28 - Reconstruction Error: 0.0000 (Normal)\n",
      "Sample 29 - Reconstruction Error: 0.0006 (Above threshold)\n",
      "Sample 30 - Reconstruction Error: 0.0007 (Above threshold)\n",
      "Sample 31 - Reconstruction Error: 0.0000 (Normal)\n"
     ]
    }
   ],
   "source": [
    "import numpy as np\n",
    "import torch\n",
    "import torch.nn as nn\n",
    "import torch.optim as optim\n",
    "import pandas as pd\n",
    "from torch.utils.data import DataLoader, Dataset\n",
    "from sklearn.preprocessing import MinMaxScaler\n",
    "\n",
    "# Define the dataset class\n",
    "class VibrationDataset(Dataset):\n",
    "    def __init__(self, csv_file):\n",
    "        data = pd.read_csv(csv_file)\n",
    "        self.scaler = MinMaxScaler()\n",
    "        self.data = self.scaler.fit_transform(data[['x', 'y', 'z']].values)\n",
    "\n",
    "    def __len__(self):\n",
    "        return len(self.data)\n",
    "\n",
    "    def __getitem__(self, idx):\n",
    "        return torch.tensor(self.data[idx], dtype=torch.float32)\n",
    "\n",
    "# Define the autoencoder model with structure similar to previous code\n",
    "class Autoencoder(nn.Module):\n",
    "    def __init__(self, input_dim=3):\n",
    "        super(Autoencoder, self).__init__()\n",
    "        # Encoder\n",
    "        self.encoder = nn.Sequential(\n",
    "            nn.Linear(input_dim, 32),\n",
    "            nn.ReLU(),\n",
    "            nn.Linear(32, 16),\n",
    "            nn.ReLU()\n",
    "        )\n",
    "        # Decoder\n",
    "        self.decoder = nn.Sequential(\n",
    "            nn.Linear(16, 32),\n",
    "            nn.ReLU(),\n",
    "            nn.Linear(32, input_dim),\n",
    "            nn.Sigmoid()\n",
    "        )\n",
    "\n",
    "    def forward(self, x):\n",
    "        encoded = self.encoder(x)\n",
    "        decoded = self.decoder(encoded)\n",
    "        return decoded\n",
    "\n",
    "# Load datasets for non-fault and fault\n",
    "non_fault_dataset = VibrationDataset('non_fault_data.csv')\n",
    "fault_dataset = VibrationDataset('peak_drop_fault_data.csv')\n",
    "\n",
    "# Create data loaders\n",
    "non_fault_loader = DataLoader(non_fault_dataset, batch_size=32, shuffle=True)\n",
    "fault_loader = DataLoader(fault_dataset, batch_size=32, shuffle=False)\n",
    "\n",
    "# Initialize the model, loss function, and optimizer\n",
    "input_dim = 3\n",
    "model = Autoencoder(input_dim=input_dim)\n",
    "criterion = nn.MSELoss()\n",
    "optimizer = optim.Adam(model.parameters(), lr=0.001)\n",
    "\n",
    "# Train the autoencoder only on non-fault data\n",
    "num_epochs = 100\n",
    "model.train()\n",
    "for epoch in range(num_epochs):\n",
    "    total_loss = 0\n",
    "    for data in non_fault_loader:\n",
    "        optimizer.zero_grad()\n",
    "        output = model(data)\n",
    "        loss = criterion(output, data)\n",
    "        loss.backward()\n",
    "        optimizer.step()\n",
    "        total_loss += loss.item()\n",
    "    if (epoch + 1) % 10 == 0:\n",
    "        print(f\"Epoch [{epoch + 1}/{num_epochs}], Loss: {total_loss / len(non_fault_loader):.4f}\")\n",
    "\n",
    "\n",
    "# Evaluate reconstruction error on fault data\n",
    "model.eval()\n",
    "reconstruction_errors = []\n",
    "with torch.no_grad():\n",
    "    for data in fault_loader:\n",
    "        output = model(data)\n",
    "        loss = criterion(output, data)\n",
    "        reconstruction_errors.append(loss.item())\n",
    "\n",
    "# Print the average reconstruction error on fault data\n",
    "print(f\"Average reconstruction error on non_fault data: {total_loss / len(non_fault_loader):.4f}\")\n",
    "\n",
    "# Set a threshold for anomaly detection (optional)\n",
    "threshold = total_loss / len(non_fault_loader) # np.mean(reconstruction_errors) + 2 * np.std(reconstruction_errors)\n",
    "\n",
    "# Displaying anomalies based on threshold\n",
    "print(\"Anomalies detected in fault data:\")\n",
    "for idx, error in enumerate(reconstruction_errors):\n",
    "    if error > threshold:\n",
    "        print(f\"Sample {idx} - Reconstruction Error: {error:.4f} (Above threshold)\")\n",
    "    else:\n",
    "        print(f\"Sample {idx} - Reconstruction Error: {error:.4f} (Normal)\")\n"
   ]
  },
  {
   "cell_type": "code",
   "execution_count": null,
   "metadata": {},
   "outputs": [],
   "source": [
    "import numpy as np\n",
    "import matplotlib.pyplot as plt\n",
    "from tensorflow.keras.models import Model\n",
    "from tensorflow.keras.layers import Input, Dense, Dropout, MultiHeadAttention, LayerNormalization, Add\n",
    "from tensorflow.keras.optimizers import Adam\n",
    "\n",
    "# Parameters for the vibrational data sequence\n",
    "window_size = 100  # Length of the sequence window\n",
    "n_features = 1     # Single feature per timestep\n",
    "\n",
    "# Generate synthetic vibrational data for demonstration (Replace with your actual data)\n",
    "# Example: frequencies = np.sin(np.linspace(0, 50, time_steps)) + np.random.normal(0, 0.5, time_steps)\n",
    "time_steps = 1000\n",
    "frequencies = np.random.rand(time_steps)  # Placeholder for actual frequency data\n",
    "\n",
    "# Create sequences (X) and labels (y)\n",
    "X = []\n",
    "y = []\n",
    "\n",
    "for i in range(0, len(frequencies) - window_size):\n",
    "    X.append(frequencies[i:i + window_size])\n",
    "    y.append(frequencies[i + window_size])  # Next value as label (adjust as needed)\n",
    "\n",
    "X = np.array(X).reshape(-1, window_size, n_features)\n",
    "y = np.array(y)\n",
    "\n",
    "# Transformer Encoder Block\n",
    "def transformer_encoder(inputs, head_size, num_heads, ff_dim, dropout=0):\n",
    "    # Normalization and Attention\n",
    "    x = LayerNormalization(epsilon=1e-6)(inputs)\n",
    "    x = MultiHeadAttention(\n",
    "        key_dim=head_size, num_heads=num_heads, dropout=dropout\n",
    "    )(x, x)\n",
    "    x = Add()([x, inputs])  # Residual connection\n",
    "\n",
    "    # Feed Forward Network\n",
    "    x = LayerNormalization(epsilon=1e-6)(x)\n",
    "    x = Dense(ff_dim, activation=\"relu\")(x)\n",
    "    x = Dropout(dropout)(x)\n",
    "    x = Dense(inputs.shape[-1])(x)\n",
    "    return Add()([x, inputs])  # Residual connection\n",
    "\n",
    "# Model Parameters\n",
    "head_size = 64\n",
    "num_heads = 4\n",
    "ff_dim = 64\n",
    "dropout = 0.1\n",
    "\n",
    "# Input Layer\n",
    "inputs = Input(shape=(window_size, n_features))\n",
    "x = inputs\n",
    "\n",
    "# Stacking multiple transformer encoder blocks\n",
    "for _ in range(3):  # Stack 3 encoder blocks\n",
    "    x = transformer_encoder(x, head_size, num_heads, ff_dim, dropout)\n",
    "\n",
    "# Output Layer\n",
    "outputs = Dense(1)(x)\n",
    "\n",
    "# Create and compile the model\n",
    "model = Model(inputs, outputs)\n",
    "model.compile(optimizer=Adam(learning_rate=0.001), loss='mean_squared_error')\n",
    "\n",
    "# Display model summary\n",
    "model.summary()\n",
    "\n",
    "# Fit the model on training data\n",
    "history = model.fit(X, y, epochs=20, batch_size=32, validation_split=0.2)\n",
    "\n",
    "# Visualization of the frequency data\n",
    "plt.plot(frequencies)\n",
    "plt.title('Frequency vs. Time')\n",
    "plt.xlabel('Time')\n",
    "plt.ylabel('Frequency')\n",
    "plt.show()\n"
   ]
  },
  {
   "cell_type": "code",
   "execution_count": 1,
   "metadata": {},
   "outputs": [
    {
     "name": "stdout",
     "output_type": "stream",
     "text": [
      " * Serving Flask app '__main__'\n",
      " * Debug mode: off\n"
     ]
    },
    {
     "name": "stderr",
     "output_type": "stream",
     "text": [
      "/var/folders/2w/cxhzvjr95x3gvgqw7pmmsklr0000gn/T/ipykernel_6359/1238952718.py:71: UserWarning: Creating a tensor from a list of numpy.ndarrays is extremely slow. Please consider converting the list to a single numpy.ndarray with numpy.array() before converting to a tensor. (Triggered internally at /Users/runner/work/pytorch/pytorch/pytorch/torch/csrc/utils/tensor_new.cpp:277.)\n",
      "  current_window = torch.tensor([list(streaming_data_buffer)[:input_length]], dtype=torch.float32)\n",
      "\u001b[31m\u001b[1mWARNING: This is a development server. Do not use it in a production deployment. Use a production WSGI server instead.\u001b[0m\n",
      " * Running on all addresses (0.0.0.0)\n",
      " * Running on http://127.0.0.1:5001\n",
      " * Running on http://10.0.8.178:5001\n",
      "\u001b[33mPress CTRL+C to quit\u001b[0m\n"
     ]
    },
    {
     "name": "stdout",
     "output_type": "stream",
     "text": [
      "Latest MSE: 0.5363554358482361\n",
      "Latest MSE: 0.5377585291862488\n",
      "Latest MSE: 0.5163723230361938\n",
      "Latest MSE: 0.5384135842323303\n"
     ]
    },
    {
     "name": "stderr",
     "output_type": "stream",
     "text": [
      "10.0.20.121 - - [27/Oct/2024 01:32:32] \"GET /get_mse HTTP/1.1\" 200 -\n"
     ]
    },
    {
     "name": "stdout",
     "output_type": "stream",
     "text": [
      "Latest MSE: 0.4948725402355194\n"
     ]
    },
    {
     "name": "stderr",
     "output_type": "stream",
     "text": [
      "10.0.20.121 - - [27/Oct/2024 01:32:33] \"GET /get_mse HTTP/1.1\" 200 -\n"
     ]
    },
    {
     "name": "stdout",
     "output_type": "stream",
     "text": [
      "Latest MSE: 0.5278785228729248\n"
     ]
    },
    {
     "name": "stderr",
     "output_type": "stream",
     "text": [
      "10.0.20.121 - - [27/Oct/2024 01:32:35] \"GET /get_mse HTTP/1.1\" 200 -\n"
     ]
    },
    {
     "name": "stdout",
     "output_type": "stream",
     "text": [
      "Latest MSE: 0.5160077214241028\n"
     ]
    },
    {
     "name": "stderr",
     "output_type": "stream",
     "text": [
      "10.0.20.121 - - [27/Oct/2024 01:32:36] \"GET /get_mse HTTP/1.1\" 200 -\n"
     ]
    },
    {
     "name": "stdout",
     "output_type": "stream",
     "text": [
      "Latest MSE: 0.5278260111808777\n",
      "Latest MSE: 0.518251359462738\n",
      "Latest MSE: 0.5444440841674805\n",
      "Latest MSE: 0.5178860425949097\n",
      "Latest MSE: 0.5097215175628662\n",
      "Latest MSE: 0.5299596190452576\n",
      "Latest MSE: 0.5326663851737976\n",
      "Latest MSE: 0.5175045728683472\n"
     ]
    },
    {
     "name": "stderr",
     "output_type": "stream",
     "text": [
      "10.0.20.121 - - [27/Oct/2024 01:32:44] \"GET /get_mse HTTP/1.1\" 200 -\n"
     ]
    },
    {
     "name": "stdout",
     "output_type": "stream",
     "text": [
      "Latest MSE: 0.5087799429893494\n"
     ]
    },
    {
     "name": "stderr",
     "output_type": "stream",
     "text": [
      "10.0.20.121 - - [27/Oct/2024 01:32:45] \"GET /get_mse HTTP/1.1\" 200 -\n",
      "10.0.20.121 - - [27/Oct/2024 01:32:45] \"GET /get_mse HTTP/1.1\" 200 -\n"
     ]
    },
    {
     "name": "stdout",
     "output_type": "stream",
     "text": [
      "Latest MSE: 0.5152305364608765\n"
     ]
    },
    {
     "name": "stderr",
     "output_type": "stream",
     "text": [
      "10.0.20.121 - - [27/Oct/2024 01:32:46] \"GET /get_mse HTTP/1.1\" 200 -\n",
      "10.0.20.121 - - [27/Oct/2024 01:32:46] \"GET /get_mse HTTP/1.1\" 200 -\n"
     ]
    },
    {
     "name": "stdout",
     "output_type": "stream",
     "text": [
      "Latest MSE: 0.5393298268318176\n",
      "Latest MSE: 0.5028021931648254\n"
     ]
    },
    {
     "name": "stderr",
     "output_type": "stream",
     "text": [
      "10.0.20.121 - - [27/Oct/2024 01:32:47] \"GET /get_mse HTTP/1.1\" 200 -\n",
      "10.0.20.121 - - [27/Oct/2024 01:32:47] \"GET /get_mse HTTP/1.1\" 200 -\n",
      "10.0.20.121 - - [27/Oct/2024 01:32:48] \"GET /get_mse HTTP/1.1\" 200 -\n"
     ]
    },
    {
     "name": "stdout",
     "output_type": "stream",
     "text": [
      "Latest MSE: 0.5180333256721497\n"
     ]
    },
    {
     "name": "stderr",
     "output_type": "stream",
     "text": [
      "10.0.20.121 - - [27/Oct/2024 01:32:48] \"GET /get_mse HTTP/1.1\" 200 -\n",
      "10.0.20.121 - - [27/Oct/2024 01:32:48] \"GET /get_mse HTTP/1.1\" 200 -\n",
      "10.0.20.121 - - [27/Oct/2024 01:32:49] \"GET /get_mse HTTP/1.1\" 200 -\n"
     ]
    },
    {
     "name": "stdout",
     "output_type": "stream",
     "text": [
      "Latest MSE: 0.5054803490638733\n"
     ]
    },
    {
     "name": "stderr",
     "output_type": "stream",
     "text": [
      "10.0.20.121 - - [27/Oct/2024 01:32:50] \"GET /get_mse HTTP/1.1\" 200 -\n",
      "10.0.20.121 - - [27/Oct/2024 01:32:50] \"GET /get_mse HTTP/1.1\" 200 -\n",
      "10.0.20.121 - - [27/Oct/2024 01:32:50] \"GET /get_mse HTTP/1.1\" 200 -\n"
     ]
    },
    {
     "name": "stdout",
     "output_type": "stream",
     "text": [
      "Latest MSE: 0.5329506397247314\n"
     ]
    },
    {
     "name": "stderr",
     "output_type": "stream",
     "text": [
      "10.0.20.121 - - [27/Oct/2024 01:32:51] \"GET /get_mse HTTP/1.1\" 200 -\n"
     ]
    },
    {
     "name": "stdout",
     "output_type": "stream",
     "text": [
      "Latest MSE: 0.5270372033119202\n"
     ]
    },
    {
     "name": "stderr",
     "output_type": "stream",
     "text": [
      "10.0.20.121 - - [27/Oct/2024 01:32:51] \"GET /get_mse HTTP/1.1\" 200 -\n",
      "10.0.20.121 - - [27/Oct/2024 01:32:51] \"GET /get_mse HTTP/1.1\" 200 -\n",
      "10.0.20.121 - - [27/Oct/2024 01:32:52] \"GET /get_mse HTTP/1.1\" 200 -\n"
     ]
    },
    {
     "name": "stdout",
     "output_type": "stream",
     "text": [
      "Latest MSE: 0.5352906584739685\n"
     ]
    },
    {
     "name": "stderr",
     "output_type": "stream",
     "text": [
      "10.0.20.121 - - [27/Oct/2024 01:32:53] \"GET /get_mse HTTP/1.1\" 200 -\n",
      "10.0.20.121 - - [27/Oct/2024 01:32:53] \"GET /get_mse HTTP/1.1\" 200 -\n",
      "10.0.20.121 - - [27/Oct/2024 01:32:53] \"GET /get_mse HTTP/1.1\" 200 -\n",
      "10.0.20.121 - - [27/Oct/2024 01:32:53] \"GET /get_mse HTTP/1.1\" 200 -\n",
      "10.0.20.121 - - [27/Oct/2024 01:32:53] \"GET /get_mse HTTP/1.1\" 200 -\n"
     ]
    },
    {
     "name": "stdout",
     "output_type": "stream",
     "text": [
      "Latest MSE: 0.5257553458213806\n"
     ]
    },
    {
     "name": "stderr",
     "output_type": "stream",
     "text": [
      "10.0.20.121 - - [27/Oct/2024 01:32:54] \"GET /get_mse HTTP/1.1\" 200 -\n",
      "10.0.20.121 - - [27/Oct/2024 01:32:54] \"GET /get_mse HTTP/1.1\" 200 -\n",
      "10.0.20.121 - - [27/Oct/2024 01:32:54] \"GET /get_mse HTTP/1.1\" 200 -\n",
      "10.0.20.121 - - [27/Oct/2024 01:32:54] \"GET /get_mse HTTP/1.1\" 200 -\n",
      "10.0.20.121 - - [27/Oct/2024 01:32:54] \"GET /get_mse HTTP/1.1\" 200 -\n"
     ]
    },
    {
     "name": "stdout",
     "output_type": "stream",
     "text": [
      "Latest MSE: 0.5153677463531494\n"
     ]
    },
    {
     "name": "stderr",
     "output_type": "stream",
     "text": [
      "10.0.20.121 - - [27/Oct/2024 01:32:54] \"GET /get_mse HTTP/1.1\" 200 -\n"
     ]
    },
    {
     "name": "stdout",
     "output_type": "stream",
     "text": [
      "Latest MSE: 0.5092796087265015\n"
     ]
    },
    {
     "name": "stderr",
     "output_type": "stream",
     "text": [
      "10.0.20.121 - - [27/Oct/2024 01:32:55] \"GET /get_mse HTTP/1.1\" 200 -\n",
      "10.0.20.121 - - [27/Oct/2024 01:32:55] \"GET /get_mse HTTP/1.1\" 200 -\n",
      "10.0.20.121 - - [27/Oct/2024 01:32:55] \"GET /get_mse HTTP/1.1\" 200 -\n",
      "10.0.20.121 - - [27/Oct/2024 01:32:55] \"GET /get_mse HTTP/1.1\" 200 -\n",
      "10.0.20.121 - - [27/Oct/2024 01:32:55] \"GET /get_mse HTTP/1.1\" 200 -\n",
      "10.0.20.121 - - [27/Oct/2024 01:32:55] \"GET /get_mse HTTP/1.1\" 200 -\n"
     ]
    },
    {
     "name": "stdout",
     "output_type": "stream",
     "text": [
      "Latest MSE: 0.5421333312988281\n"
     ]
    },
    {
     "name": "stderr",
     "output_type": "stream",
     "text": [
      "10.0.20.121 - - [27/Oct/2024 01:32:57] \"GET /get_mse HTTP/1.1\" 200 -\n",
      "10.0.20.121 - - [27/Oct/2024 01:32:57] \"GET /get_mse HTTP/1.1\" 200 -\n",
      "10.0.20.121 - - [27/Oct/2024 01:32:57] \"GET /get_mse HTTP/1.1\" 200 -\n"
     ]
    },
    {
     "name": "stdout",
     "output_type": "stream",
     "text": [
      "Latest MSE: 0.5012291669845581\n"
     ]
    },
    {
     "name": "stderr",
     "output_type": "stream",
     "text": [
      "10.0.20.121 - - [27/Oct/2024 01:32:57] \"GET /get_mse HTTP/1.1\" 200 -\n",
      "10.0.20.121 - - [27/Oct/2024 01:32:57] \"GET /get_mse HTTP/1.1\" 200 -\n",
      "10.0.20.121 - - [27/Oct/2024 01:32:57] \"GET /get_mse HTTP/1.1\" 200 -\n",
      "10.0.20.121 - - [27/Oct/2024 01:32:58] \"GET /get_mse HTTP/1.1\" 200 -\n",
      "10.0.20.121 - - [27/Oct/2024 01:32:58] \"GET /get_mse HTTP/1.1\" 200 -\n",
      "10.0.20.121 - - [27/Oct/2024 01:32:58] \"GET /get_mse HTTP/1.1\" 200 -\n"
     ]
    },
    {
     "name": "stdout",
     "output_type": "stream",
     "text": [
      "Latest MSE: 0.5015838742256165\n"
     ]
    },
    {
     "name": "stderr",
     "output_type": "stream",
     "text": [
      "10.0.20.121 - - [27/Oct/2024 01:32:59] \"GET /get_mse HTTP/1.1\" 200 -\n",
      "10.0.20.121 - - [27/Oct/2024 01:32:59] \"GET /get_mse HTTP/1.1\" 200 -\n",
      "10.0.20.121 - - [27/Oct/2024 01:32:59] \"GET /get_mse HTTP/1.1\" 200 -\n",
      "10.0.20.121 - - [27/Oct/2024 01:32:59] \"GET /get_mse HTTP/1.1\" 200 -\n"
     ]
    },
    {
     "name": "stdout",
     "output_type": "stream",
     "text": [
      "Latest MSE: 0.5364325642585754\n"
     ]
    },
    {
     "name": "stderr",
     "output_type": "stream",
     "text": [
      "10.0.20.121 - - [27/Oct/2024 01:32:59] \"GET /get_mse HTTP/1.1\" 200 -\n",
      "10.0.20.121 - - [27/Oct/2024 01:32:59] \"GET /get_mse HTTP/1.1\" 200 -\n"
     ]
    },
    {
     "name": "stdout",
     "output_type": "stream",
     "text": [
      "Latest MSE: 0.5430805087089539\n"
     ]
    },
    {
     "name": "stderr",
     "output_type": "stream",
     "text": [
      "10.0.20.121 - - [27/Oct/2024 01:33:00] \"GET /get_mse HTTP/1.1\" 200 -\n",
      "10.0.20.121 - - [27/Oct/2024 01:33:00] \"GET /get_mse HTTP/1.1\" 200 -\n",
      "10.0.20.121 - - [27/Oct/2024 01:33:00] \"GET /get_mse HTTP/1.1\" 200 -\n",
      "10.0.20.121 - - [27/Oct/2024 01:33:00] \"GET /get_mse HTTP/1.1\" 200 -\n",
      "10.0.20.121 - - [27/Oct/2024 01:33:01] \"GET /get_mse HTTP/1.1\" 200 -\n",
      "10.0.20.121 - - [27/Oct/2024 01:33:01] \"GET /get_mse HTTP/1.1\" 200 -\n"
     ]
    },
    {
     "name": "stdout",
     "output_type": "stream",
     "text": [
      "Latest MSE: 0.5239801406860352\n"
     ]
    },
    {
     "name": "stderr",
     "output_type": "stream",
     "text": [
      "10.0.20.121 - - [27/Oct/2024 01:33:02] \"GET /get_mse HTTP/1.1\" 200 -\n",
      "10.0.20.121 - - [27/Oct/2024 01:33:02] \"GET /get_mse HTTP/1.1\" 200 -\n",
      "10.0.20.121 - - [27/Oct/2024 01:33:02] \"GET /get_mse HTTP/1.1\" 200 -\n",
      "10.0.20.121 - - [27/Oct/2024 01:33:02] \"GET /get_mse HTTP/1.1\" 200 -\n"
     ]
    },
    {
     "name": "stdout",
     "output_type": "stream",
     "text": [
      "Latest MSE: 0.5431349277496338\n"
     ]
    },
    {
     "name": "stderr",
     "output_type": "stream",
     "text": [
      "10.0.20.121 - - [27/Oct/2024 01:33:03] \"GET /get_mse HTTP/1.1\" 200 -\n",
      "10.0.20.121 - - [27/Oct/2024 01:33:03] \"GET /get_mse HTTP/1.1\" 200 -\n",
      "10.0.20.121 - - [27/Oct/2024 01:33:03] \"GET /get_mse HTTP/1.1\" 200 -\n",
      "10.0.20.121 - - [27/Oct/2024 01:33:03] \"GET /get_mse HTTP/1.1\" 200 -\n",
      "10.0.20.121 - - [27/Oct/2024 01:33:03] \"GET /get_mse HTTP/1.1\" 200 -\n",
      "10.0.20.121 - - [27/Oct/2024 01:33:03] \"GET /get_mse HTTP/1.1\" 200 -\n"
     ]
    },
    {
     "name": "stdout",
     "output_type": "stream",
     "text": [
      "Latest MSE: 0.5094523429870605\n"
     ]
    },
    {
     "name": "stderr",
     "output_type": "stream",
     "text": [
      "10.0.20.121 - - [27/Oct/2024 01:33:04] \"GET /get_mse HTTP/1.1\" 200 -\n",
      "10.0.20.121 - - [27/Oct/2024 01:33:04] \"GET /get_mse HTTP/1.1\" 200 -\n"
     ]
    },
    {
     "name": "stdout",
     "output_type": "stream",
     "text": [
      "Latest MSE: 0.5017065405845642\n"
     ]
    },
    {
     "name": "stderr",
     "output_type": "stream",
     "text": [
      "10.0.20.121 - - [27/Oct/2024 01:33:05] \"GET /get_mse HTTP/1.1\" 200 -\n",
      "10.0.20.121 - - [27/Oct/2024 01:33:05] \"GET /get_mse HTTP/1.1\" 200 -\n",
      "10.0.20.121 - - [27/Oct/2024 01:33:05] \"GET /get_mse HTTP/1.1\" 200 -\n",
      "10.0.20.121 - - [27/Oct/2024 01:33:05] \"GET /get_mse HTTP/1.1\" 200 -\n",
      "10.0.20.121 - - [27/Oct/2024 01:33:05] \"GET /get_mse HTTP/1.1\" 200 -\n",
      "10.0.20.121 - - [27/Oct/2024 01:33:05] \"GET /get_mse HTTP/1.1\" 200 -\n"
     ]
    },
    {
     "name": "stdout",
     "output_type": "stream",
     "text": [
      "Latest MSE: 0.5392959117889404\n"
     ]
    },
    {
     "name": "stderr",
     "output_type": "stream",
     "text": [
      "10.0.20.121 - - [27/Oct/2024 01:33:06] \"GET /get_mse HTTP/1.1\" 200 -\n",
      "10.0.20.121 - - [27/Oct/2024 01:33:06] \"GET /get_mse HTTP/1.1\" 200 -\n",
      "10.0.20.121 - - [27/Oct/2024 01:33:06] \"GET /get_mse HTTP/1.1\" 200 -\n",
      "10.0.20.121 - - [27/Oct/2024 01:33:06] \"GET /get_mse HTTP/1.1\" 200 -\n"
     ]
    },
    {
     "name": "stdout",
     "output_type": "stream",
     "text": [
      "Latest MSE: 0.540989875793457\n"
     ]
    },
    {
     "name": "stderr",
     "output_type": "stream",
     "text": [
      "10.0.20.121 - - [27/Oct/2024 01:33:06] \"GET /get_mse HTTP/1.1\" 200 -\n",
      "10.0.20.121 - - [27/Oct/2024 01:33:06] \"GET /get_mse HTTP/1.1\" 200 -\n",
      "10.0.20.121 - - [27/Oct/2024 01:33:07] \"GET /get_mse HTTP/1.1\" 200 -\n",
      "10.0.20.121 - - [27/Oct/2024 01:33:07] \"GET /get_mse HTTP/1.1\" 200 -\n",
      "10.0.20.121 - - [27/Oct/2024 01:33:07] \"GET /get_mse HTTP/1.1\" 200 -\n"
     ]
    },
    {
     "name": "stdout",
     "output_type": "stream",
     "text": [
      "Latest MSE: 0.49075424671173096\n"
     ]
    },
    {
     "name": "stderr",
     "output_type": "stream",
     "text": [
      "10.0.20.121 - - [27/Oct/2024 01:33:07] \"GET /get_mse HTTP/1.1\" 200 -\n",
      "10.0.20.121 - - [27/Oct/2024 01:33:08] \"GET /get_mse HTTP/1.1\" 200 -\n",
      "10.0.20.121 - - [27/Oct/2024 01:33:08] \"GET /get_mse HTTP/1.1\" 200 -\n"
     ]
    },
    {
     "name": "stdout",
     "output_type": "stream",
     "text": [
      "Latest MSE: 0.5214498043060303\n"
     ]
    },
    {
     "name": "stderr",
     "output_type": "stream",
     "text": [
      "10.0.20.121 - - [27/Oct/2024 01:33:09] \"GET /get_mse HTTP/1.1\" 200 -\n",
      "10.0.20.121 - - [27/Oct/2024 01:33:09] \"GET /get_mse HTTP/1.1\" 200 -\n",
      "10.0.20.121 - - [27/Oct/2024 01:33:09] \"GET /get_mse HTTP/1.1\" 200 -\n",
      "10.0.20.121 - - [27/Oct/2024 01:33:09] \"GET /get_mse HTTP/1.1\" 200 -\n",
      "10.0.20.121 - - [27/Oct/2024 01:33:09] \"GET /get_mse HTTP/1.1\" 200 -\n",
      "10.0.20.121 - - [27/Oct/2024 01:33:09] \"GET /get_mse HTTP/1.1\" 200 -\n"
     ]
    },
    {
     "name": "stdout",
     "output_type": "stream",
     "text": [
      "Latest MSE: 0.5258777737617493\n"
     ]
    },
    {
     "name": "stderr",
     "output_type": "stream",
     "text": [
      "10.0.20.121 - - [27/Oct/2024 01:33:10] \"GET /get_mse HTTP/1.1\" 200 -\n"
     ]
    },
    {
     "name": "stdout",
     "output_type": "stream",
     "text": [
      "Latest MSE: 0.5269190669059753\n"
     ]
    },
    {
     "name": "stderr",
     "output_type": "stream",
     "text": [
      "10.0.20.121 - - [27/Oct/2024 01:33:10] \"GET /get_mse HTTP/1.1\" 200 -\n",
      "10.0.20.121 - - [27/Oct/2024 01:33:10] \"GET /get_mse HTTP/1.1\" 200 -\n",
      "10.0.20.121 - - [27/Oct/2024 01:33:10] \"GET /get_mse HTTP/1.1\" 200 -\n",
      "10.0.20.121 - - [27/Oct/2024 01:33:10] \"GET /get_mse HTTP/1.1\" 200 -\n",
      "10.0.20.121 - - [27/Oct/2024 01:33:10] \"GET /get_mse HTTP/1.1\" 200 -\n"
     ]
    },
    {
     "name": "stdout",
     "output_type": "stream",
     "text": [
      "Latest MSE: 0.5078596472740173\n"
     ]
    },
    {
     "name": "stderr",
     "output_type": "stream",
     "text": [
      "10.0.20.121 - - [27/Oct/2024 01:33:12] \"GET /get_mse HTTP/1.1\" 200 -\n",
      "10.0.20.121 - - [27/Oct/2024 01:33:12] \"GET /get_mse HTTP/1.1\" 200 -\n",
      "10.0.20.121 - - [27/Oct/2024 01:33:12] \"GET /get_mse HTTP/1.1\" 200 -\n",
      "10.0.20.121 - - [27/Oct/2024 01:33:12] \"GET /get_mse HTTP/1.1\" 200 -\n",
      "10.0.20.121 - - [27/Oct/2024 01:33:12] \"GET /get_mse HTTP/1.1\" 200 -\n",
      "10.0.20.121 - - [27/Oct/2024 01:33:12] \"GET /get_mse HTTP/1.1\" 200 -\n"
     ]
    },
    {
     "name": "stdout",
     "output_type": "stream",
     "text": [
      "Latest MSE: 0.5472615957260132\n"
     ]
    },
    {
     "name": "stderr",
     "output_type": "stream",
     "text": [
      "10.0.20.121 - - [27/Oct/2024 01:33:13] \"GET /get_mse HTTP/1.1\" 200 -\n",
      "10.0.20.121 - - [27/Oct/2024 01:33:13] \"GET /get_mse HTTP/1.1\" 200 -\n",
      "10.0.20.121 - - [27/Oct/2024 01:33:13] \"GET /get_mse HTTP/1.1\" 200 -\n",
      "10.0.20.121 - - [27/Oct/2024 01:33:13] \"GET /get_mse HTTP/1.1\" 200 -\n",
      "10.0.20.121 - - [27/Oct/2024 01:33:13] \"GET /get_mse HTTP/1.1\" 200 -\n",
      "10.0.20.121 - - [27/Oct/2024 01:33:13] \"GET /get_mse HTTP/1.1\" 200 -\n"
     ]
    },
    {
     "name": "stdout",
     "output_type": "stream",
     "text": [
      "Latest MSE: 0.5170029401779175\n",
      "Latest MSE: 0.5111837387084961\n",
      "Latest MSE: 0.5412582755088806\n"
     ]
    },
    {
     "name": "stderr",
     "output_type": "stream",
     "text": [
      "10.0.20.121 - - [27/Oct/2024 01:33:16] \"GET /get_mse HTTP/1.1\" 200 -\n",
      "10.0.20.121 - - [27/Oct/2024 01:33:16] \"GET /get_mse HTTP/1.1\" 200 -\n",
      "10.0.20.121 - - [27/Oct/2024 01:33:16] \"GET /get_mse HTTP/1.1\" 200 -\n",
      "10.0.20.121 - - [27/Oct/2024 01:33:16] \"GET /get_mse HTTP/1.1\" 200 -\n",
      "10.0.20.121 - - [27/Oct/2024 01:33:16] \"GET /get_mse HTTP/1.1\" 200 -\n",
      "10.0.20.121 - - [27/Oct/2024 01:33:16] \"GET /get_mse HTTP/1.1\" 200 -\n"
     ]
    },
    {
     "name": "stdout",
     "output_type": "stream",
     "text": [
      "Latest MSE: 0.5281047821044922\n"
     ]
    },
    {
     "name": "stderr",
     "output_type": "stream",
     "text": [
      "10.0.20.121 - - [27/Oct/2024 01:33:17] \"GET /get_mse HTTP/1.1\" 200 -\n",
      "10.0.20.121 - - [27/Oct/2024 01:33:17] \"GET /get_mse HTTP/1.1\" 200 -\n",
      "10.0.20.121 - - [27/Oct/2024 01:33:17] \"GET /get_mse HTTP/1.1\" 200 -\n",
      "10.0.20.121 - - [27/Oct/2024 01:33:17] \"GET /get_mse HTTP/1.1\" 200 -\n",
      "10.0.20.121 - - [27/Oct/2024 01:33:17] \"GET /get_mse HTTP/1.1\" 200 -\n",
      "10.0.20.121 - - [27/Oct/2024 01:33:17] \"GET /get_mse HTTP/1.1\" 200 -\n"
     ]
    },
    {
     "name": "stdout",
     "output_type": "stream",
     "text": [
      "Latest MSE: 0.530224084854126\n"
     ]
    },
    {
     "name": "stderr",
     "output_type": "stream",
     "text": [
      "10.0.20.121 - - [27/Oct/2024 01:33:18] \"GET /get_mse HTTP/1.1\" 200 -\n",
      "10.0.20.121 - - [27/Oct/2024 01:33:18] \"GET /get_mse HTTP/1.1\" 200 -\n"
     ]
    },
    {
     "name": "stdout",
     "output_type": "stream",
     "text": [
      "Latest MSE: 0.5239217281341553\n"
     ]
    },
    {
     "name": "stderr",
     "output_type": "stream",
     "text": [
      "10.0.20.121 - - [27/Oct/2024 01:33:19] \"GET /get_mse HTTP/1.1\" 200 -\n",
      "10.0.20.121 - - [27/Oct/2024 01:33:19] \"GET /get_mse HTTP/1.1\" 200 -\n",
      "10.0.20.121 - - [27/Oct/2024 01:33:19] \"GET /get_mse HTTP/1.1\" 200 -\n",
      "10.0.20.121 - - [27/Oct/2024 01:33:19] \"GET /get_mse HTTP/1.1\" 200 -\n"
     ]
    },
    {
     "name": "stdout",
     "output_type": "stream",
     "text": [
      "Latest MSE: 0.5347273945808411\n"
     ]
    },
    {
     "name": "stderr",
     "output_type": "stream",
     "text": [
      "10.0.20.121 - - [27/Oct/2024 01:33:20] \"GET /get_mse HTTP/1.1\" 200 -\n",
      "10.0.20.121 - - [27/Oct/2024 01:33:20] \"GET /get_mse HTTP/1.1\" 200 -\n"
     ]
    },
    {
     "name": "stdout",
     "output_type": "stream",
     "text": [
      "Latest MSE: 0.5000267624855042\n"
     ]
    },
    {
     "name": "stderr",
     "output_type": "stream",
     "text": [
      "10.0.20.121 - - [27/Oct/2024 01:33:21] \"GET /get_mse HTTP/1.1\" 200 -\n",
      "10.0.20.121 - - [27/Oct/2024 01:33:21] \"GET /get_mse HTTP/1.1\" 200 -\n",
      "10.0.20.121 - - [27/Oct/2024 01:33:21] \"GET /get_mse HTTP/1.1\" 200 -\n",
      "10.0.20.121 - - [27/Oct/2024 01:33:21] \"GET /get_mse HTTP/1.1\" 200 -\n"
     ]
    },
    {
     "name": "stdout",
     "output_type": "stream",
     "text": [
      "Latest MSE: 0.5344513654708862\n"
     ]
    },
    {
     "name": "stderr",
     "output_type": "stream",
     "text": [
      "10.0.20.121 - - [27/Oct/2024 01:33:22] \"GET /get_mse HTTP/1.1\" 200 -\n",
      "10.0.20.121 - - [27/Oct/2024 01:33:22] \"GET /get_mse HTTP/1.1\" 200 -\n",
      "10.0.20.121 - - [27/Oct/2024 01:33:22] \"GET /get_mse HTTP/1.1\" 200 -\n"
     ]
    },
    {
     "name": "stdout",
     "output_type": "stream",
     "text": [
      "Latest MSE: 0.5186709761619568\n"
     ]
    },
    {
     "name": "stderr",
     "output_type": "stream",
     "text": [
      "10.0.20.121 - - [27/Oct/2024 01:33:23] \"GET /get_mse HTTP/1.1\" 200 -\n",
      "10.0.20.121 - - [27/Oct/2024 01:33:23] \"GET /get_mse HTTP/1.1\" 200 -\n",
      "10.0.20.121 - - [27/Oct/2024 01:33:23] \"GET /get_mse HTTP/1.1\" 200 -\n",
      "10.0.20.121 - - [27/Oct/2024 01:33:23] \"GET /get_mse HTTP/1.1\" 200 -\n",
      "10.0.20.121 - - [27/Oct/2024 01:33:23] \"GET /get_mse HTTP/1.1\" 200 -\n"
     ]
    },
    {
     "name": "stdout",
     "output_type": "stream",
     "text": [
      "Latest MSE: 0.5338756442070007\n"
     ]
    },
    {
     "name": "stderr",
     "output_type": "stream",
     "text": [
      "10.0.20.121 - - [27/Oct/2024 01:33:24] \"GET /get_mse HTTP/1.1\" 200 -\n",
      "10.0.20.121 - - [27/Oct/2024 01:33:24] \"GET /get_mse HTTP/1.1\" 200 -\n",
      "10.0.20.121 - - [27/Oct/2024 01:33:24] \"GET /get_mse HTTP/1.1\" 200 -\n",
      "10.0.20.121 - - [27/Oct/2024 01:33:24] \"GET /get_mse HTTP/1.1\" 200 -\n",
      "10.0.20.121 - - [27/Oct/2024 01:33:24] \"GET /get_mse HTTP/1.1\" 200 -\n",
      "10.0.20.121 - - [27/Oct/2024 01:33:24] \"GET /get_mse HTTP/1.1\" 200 -\n"
     ]
    },
    {
     "name": "stdout",
     "output_type": "stream",
     "text": [
      "Latest MSE: 0.5080810785293579\n"
     ]
    },
    {
     "name": "stderr",
     "output_type": "stream",
     "text": [
      "10.0.20.121 - - [27/Oct/2024 01:33:25] \"GET /get_mse HTTP/1.1\" 200 -\n",
      "10.0.20.121 - - [27/Oct/2024 01:33:25] \"GET /get_mse HTTP/1.1\" 200 -\n",
      "10.0.20.121 - - [27/Oct/2024 01:33:25] \"GET /get_mse HTTP/1.1\" 200 -\n",
      "10.0.20.121 - - [27/Oct/2024 01:33:25] \"GET /get_mse HTTP/1.1\" 200 -\n",
      "10.0.20.121 - - [27/Oct/2024 01:33:25] \"GET /get_mse HTTP/1.1\" 200 -\n",
      "10.0.20.121 - - [27/Oct/2024 01:33:25] \"GET /get_mse HTTP/1.1\" 200 -\n"
     ]
    },
    {
     "name": "stdout",
     "output_type": "stream",
     "text": [
      "Latest MSE: 0.4994891583919525\n"
     ]
    },
    {
     "name": "stderr",
     "output_type": "stream",
     "text": [
      "10.0.20.121 - - [27/Oct/2024 01:33:26] \"GET /get_mse HTTP/1.1\" 200 -\n",
      "10.0.20.121 - - [27/Oct/2024 01:33:26] \"GET /get_mse HTTP/1.1\" 200 -\n",
      "10.0.20.121 - - [27/Oct/2024 01:33:26] \"GET /get_mse HTTP/1.1\" 200 -\n",
      "10.0.20.121 - - [27/Oct/2024 01:33:26] \"GET /get_mse HTTP/1.1\" 200 -\n",
      "10.0.20.121 - - [27/Oct/2024 01:33:26] \"GET /get_mse HTTP/1.1\" 200 -\n",
      "10.0.20.121 - - [27/Oct/2024 01:33:26] \"GET /get_mse HTTP/1.1\" 200 -\n"
     ]
    },
    {
     "name": "stdout",
     "output_type": "stream",
     "text": [
      "Latest MSE: 0.5216070413589478\n",
      "Latest MSE: 0.5086185336112976\n"
     ]
    },
    {
     "name": "stderr",
     "output_type": "stream",
     "text": [
      "10.0.20.121 - - [27/Oct/2024 01:33:29] \"GET /get_mse HTTP/1.1\" 200 -\n",
      "10.0.20.121 - - [27/Oct/2024 01:33:29] \"GET /get_mse HTTP/1.1\" 200 -\n",
      "10.0.20.121 - - [27/Oct/2024 01:33:29] \"GET /get_mse HTTP/1.1\" 200 -\n",
      "10.0.20.121 - - [27/Oct/2024 01:33:29] \"GET /get_mse HTTP/1.1\" 200 -\n",
      "10.0.20.121 - - [27/Oct/2024 01:33:29] \"GET /get_mse HTTP/1.1\" 200 -\n",
      "10.0.20.121 - - [27/Oct/2024 01:33:29] \"GET /get_mse HTTP/1.1\" 200 -\n"
     ]
    },
    {
     "name": "stdout",
     "output_type": "stream",
     "text": [
      "Latest MSE: 0.5276967287063599\n",
      "Latest MSE: 0.5027480721473694\n"
     ]
    },
    {
     "name": "stderr",
     "output_type": "stream",
     "text": [
      "10.0.20.121 - - [27/Oct/2024 01:33:30] \"GET /get_mse HTTP/1.1\" 200 -\n",
      "10.0.20.121 - - [27/Oct/2024 01:33:30] \"GET /get_mse HTTP/1.1\" 200 -\n",
      "10.0.20.121 - - [27/Oct/2024 01:33:30] \"GET /get_mse HTTP/1.1\" 200 -\n",
      "10.0.20.121 - - [27/Oct/2024 01:33:31] \"GET /get_mse HTTP/1.1\" 200 -\n",
      "10.0.20.121 - - [27/Oct/2024 01:33:31] \"GET /get_mse HTTP/1.1\" 200 -\n",
      "10.0.20.121 - - [27/Oct/2024 01:33:31] \"GET /get_mse HTTP/1.1\" 200 -\n"
     ]
    },
    {
     "name": "stdout",
     "output_type": "stream",
     "text": [
      "Latest MSE: 0.5394912362098694\n",
      "Latest MSE: 0.5066484808921814\n"
     ]
    },
    {
     "name": "stderr",
     "output_type": "stream",
     "text": [
      "10.0.20.121 - - [27/Oct/2024 01:33:32] \"GET /get_mse HTTP/1.1\" 200 -\n",
      "10.0.20.121 - - [27/Oct/2024 01:33:32] \"GET /get_mse HTTP/1.1\" 200 -\n",
      "10.0.20.121 - - [27/Oct/2024 01:33:32] \"GET /get_mse HTTP/1.1\" 200 -\n",
      "10.0.20.121 - - [27/Oct/2024 01:33:32] \"GET /get_mse HTTP/1.1\" 200 -\n",
      "10.0.20.121 - - [27/Oct/2024 01:33:32] \"GET /get_mse HTTP/1.1\" 200 -\n",
      "10.0.20.121 - - [27/Oct/2024 01:33:32] \"GET /get_mse HTTP/1.1\" 200 -\n"
     ]
    },
    {
     "name": "stdout",
     "output_type": "stream",
     "text": [
      "Latest MSE: 0.5309755206108093\n",
      "Latest MSE: 0.5037865042686462\n"
     ]
    },
    {
     "name": "stderr",
     "output_type": "stream",
     "text": [
      "10.0.20.121 - - [27/Oct/2024 01:33:34] \"GET /get_mse HTTP/1.1\" 200 -\n",
      "10.0.20.121 - - [27/Oct/2024 01:33:34] \"GET /get_mse HTTP/1.1\" 200 -\n",
      "10.0.20.121 - - [27/Oct/2024 01:33:34] \"GET /get_mse HTTP/1.1\" 200 -\n",
      "10.0.20.121 - - [27/Oct/2024 01:33:34] \"GET /get_mse HTTP/1.1\" 200 -\n",
      "10.0.20.121 - - [27/Oct/2024 01:33:34] \"GET /get_mse HTTP/1.1\" 200 -\n",
      "10.0.20.121 - - [27/Oct/2024 01:33:34] \"GET /get_mse HTTP/1.1\" 200 -\n"
     ]
    },
    {
     "name": "stdout",
     "output_type": "stream",
     "text": [
      "Latest MSE: 0.4917425215244293\n"
     ]
    },
    {
     "name": "stderr",
     "output_type": "stream",
     "text": [
      "10.0.20.121 - - [27/Oct/2024 01:33:35] \"GET /get_mse HTTP/1.1\" 200 -\n",
      "10.0.20.121 - - [27/Oct/2024 01:33:35] \"GET /get_mse HTTP/1.1\" 200 -\n",
      "10.0.20.121 - - [27/Oct/2024 01:33:35] \"GET /get_mse HTTP/1.1\" 200 -\n",
      "10.0.20.121 - - [27/Oct/2024 01:33:35] \"GET /get_mse HTTP/1.1\" 200 -\n",
      "10.0.20.121 - - [27/Oct/2024 01:33:35] \"GET /get_mse HTTP/1.1\" 200 -\n",
      "10.0.20.121 - - [27/Oct/2024 01:33:35] \"GET /get_mse HTTP/1.1\" 200 -\n"
     ]
    },
    {
     "name": "stdout",
     "output_type": "stream",
     "text": [
      "Latest MSE: 0.5302898287773132\n",
      "Latest MSE: 0.5382301211357117\n"
     ]
    },
    {
     "name": "stderr",
     "output_type": "stream",
     "text": [
      "10.0.20.121 - - [27/Oct/2024 01:33:37] \"GET /get_mse HTTP/1.1\" 200 -\n",
      "10.0.20.121 - - [27/Oct/2024 01:33:37] \"GET /get_mse HTTP/1.1\" 200 -\n",
      "10.0.20.121 - - [27/Oct/2024 01:33:37] \"GET /get_mse HTTP/1.1\" 200 -\n",
      "10.0.20.121 - - [27/Oct/2024 01:33:37] \"GET /get_mse HTTP/1.1\" 200 -\n",
      "10.0.20.121 - - [27/Oct/2024 01:33:37] \"GET /get_mse HTTP/1.1\" 200 -\n",
      "10.0.20.121 - - [27/Oct/2024 01:33:37] \"GET /get_mse HTTP/1.1\" 200 -\n"
     ]
    },
    {
     "name": "stdout",
     "output_type": "stream",
     "text": [
      "Latest MSE: 0.5389646291732788\n"
     ]
    },
    {
     "name": "stderr",
     "output_type": "stream",
     "text": [
      "10.0.20.121 - - [27/Oct/2024 01:33:38] \"GET /get_mse HTTP/1.1\" 200 -\n",
      "10.0.20.121 - - [27/Oct/2024 01:33:38] \"GET /get_mse HTTP/1.1\" 200 -\n",
      "10.0.20.121 - - [27/Oct/2024 01:33:38] \"GET /get_mse HTTP/1.1\" 200 -\n",
      "10.0.20.121 - - [27/Oct/2024 01:33:38] \"GET /get_mse HTTP/1.1\" 200 -\n",
      "10.0.20.121 - - [27/Oct/2024 01:33:38] \"GET /get_mse HTTP/1.1\" 200 -\n",
      "10.0.20.121 - - [27/Oct/2024 01:33:38] \"GET /get_mse HTTP/1.1\" 200 -\n"
     ]
    },
    {
     "name": "stdout",
     "output_type": "stream",
     "text": [
      "Latest MSE: 0.514665961265564\n"
     ]
    },
    {
     "name": "stderr",
     "output_type": "stream",
     "text": [
      "10.0.20.121 - - [27/Oct/2024 01:33:39] \"GET /get_mse HTTP/1.1\" 200 -\n",
      "10.0.20.121 - - [27/Oct/2024 01:33:39] \"GET /get_mse HTTP/1.1\" 200 -\n",
      "10.0.20.121 - - [27/Oct/2024 01:33:39] \"GET /get_mse HTTP/1.1\" 200 -\n",
      "10.0.20.121 - - [27/Oct/2024 01:33:39] \"GET /get_mse HTTP/1.1\" 200 -\n",
      "10.0.20.121 - - [27/Oct/2024 01:33:39] \"GET /get_mse HTTP/1.1\" 200 -\n",
      "10.0.20.121 - - [27/Oct/2024 01:33:39] \"GET /get_mse HTTP/1.1\" 200 -\n"
     ]
    },
    {
     "name": "stdout",
     "output_type": "stream",
     "text": [
      "Latest MSE: 0.5262479782104492\n"
     ]
    },
    {
     "name": "stderr",
     "output_type": "stream",
     "text": [
      "10.0.20.121 - - [27/Oct/2024 01:33:41] \"GET /get_mse HTTP/1.1\" 200 -\n",
      "10.0.20.121 - - [27/Oct/2024 01:33:41] \"GET /get_mse HTTP/1.1\" 200 -\n"
     ]
    },
    {
     "name": "stdout",
     "output_type": "stream",
     "text": [
      "Latest MSE: 0.5395442843437195\n"
     ]
    },
    {
     "name": "stderr",
     "output_type": "stream",
     "text": [
      "10.0.20.121 - - [27/Oct/2024 01:33:42] \"GET /get_mse HTTP/1.1\" 200 -\n",
      "10.0.20.121 - - [27/Oct/2024 01:33:42] \"GET /get_mse HTTP/1.1\" 200 -\n",
      "10.0.20.121 - - [27/Oct/2024 01:33:42] \"GET /get_mse HTTP/1.1\" 200 -\n",
      "10.0.20.121 - - [27/Oct/2024 01:33:42] \"GET /get_mse HTTP/1.1\" 200 -\n"
     ]
    },
    {
     "name": "stdout",
     "output_type": "stream",
     "text": [
      "Latest MSE: 0.5134578347206116\n"
     ]
    },
    {
     "name": "stderr",
     "output_type": "stream",
     "text": [
      "10.0.20.121 - - [27/Oct/2024 01:33:42] \"GET /get_mse HTTP/1.1\" 200 -\n",
      "10.0.20.121 - - [27/Oct/2024 01:33:42] \"GET /get_mse HTTP/1.1\" 200 -\n"
     ]
    },
    {
     "name": "stdout",
     "output_type": "stream",
     "text": [
      "Latest MSE: 0.4909855127334595\n"
     ]
    },
    {
     "name": "stderr",
     "output_type": "stream",
     "text": [
      "10.0.20.121 - - [27/Oct/2024 01:33:43] \"GET /get_mse HTTP/1.1\" 200 -\n",
      "10.0.20.121 - - [27/Oct/2024 01:33:43] \"GET /get_mse HTTP/1.1\" 200 -\n",
      "10.0.20.121 - - [27/Oct/2024 01:33:43] \"GET /get_mse HTTP/1.1\" 200 -\n",
      "10.0.20.121 - - [27/Oct/2024 01:33:43] \"GET /get_mse HTTP/1.1\" 200 -\n",
      "10.0.20.121 - - [27/Oct/2024 01:33:43] \"GET /get_mse HTTP/1.1\" 200 -\n",
      "10.0.20.121 - - [27/Oct/2024 01:33:43] \"GET /get_mse HTTP/1.1\" 200 -\n"
     ]
    },
    {
     "name": "stdout",
     "output_type": "stream",
     "text": [
      "Latest MSE: 0.524566650390625\n"
     ]
    },
    {
     "name": "stderr",
     "output_type": "stream",
     "text": [
      "10.0.20.121 - - [27/Oct/2024 01:33:44] \"GET /get_mse HTTP/1.1\" 200 -\n",
      "10.0.20.121 - - [27/Oct/2024 01:33:44] \"GET /get_mse HTTP/1.1\" 200 -\n",
      "10.0.20.121 - - [27/Oct/2024 01:33:44] \"GET /get_mse HTTP/1.1\" 200 -\n",
      "10.0.20.121 - - [27/Oct/2024 01:33:44] \"GET /get_mse HTTP/1.1\" 200 -\n",
      "10.0.20.121 - - [27/Oct/2024 01:33:44] \"GET /get_mse HTTP/1.1\" 200 -\n",
      "10.0.20.121 - - [27/Oct/2024 01:33:45] \"GET /get_mse HTTP/1.1\" 200 -\n"
     ]
    },
    {
     "name": "stdout",
     "output_type": "stream",
     "text": [
      "Latest MSE: 0.5208758115768433\n",
      "Latest MSE: 0.510664701461792\n"
     ]
    },
    {
     "name": "stderr",
     "output_type": "stream",
     "text": [
      "10.0.20.121 - - [27/Oct/2024 01:33:46] \"GET /get_mse HTTP/1.1\" 200 -\n",
      "10.0.20.121 - - [27/Oct/2024 01:33:46] \"GET /get_mse HTTP/1.1\" 200 -\n",
      "10.0.20.121 - - [27/Oct/2024 01:33:46] \"GET /get_mse HTTP/1.1\" 200 -\n",
      "10.0.20.121 - - [27/Oct/2024 01:33:46] \"GET /get_mse HTTP/1.1\" 200 -\n",
      "10.0.20.121 - - [27/Oct/2024 01:33:46] \"GET /get_mse HTTP/1.1\" 200 -\n",
      "10.0.20.121 - - [27/Oct/2024 01:33:46] \"GET /get_mse HTTP/1.1\" 200 -\n"
     ]
    },
    {
     "name": "stdout",
     "output_type": "stream",
     "text": [
      "Latest MSE: 0.5031460523605347\n"
     ]
    },
    {
     "name": "stderr",
     "output_type": "stream",
     "text": [
      "10.0.20.121 - - [27/Oct/2024 01:33:47] \"GET /get_mse HTTP/1.1\" 200 -\n",
      "10.0.20.121 - - [27/Oct/2024 01:33:48] \"GET /get_mse HTTP/1.1\" 200 -\n",
      "10.0.20.121 - - [27/Oct/2024 01:33:48] \"GET /get_mse HTTP/1.1\" 200 -\n",
      "10.0.20.121 - - [27/Oct/2024 01:33:48] \"GET /get_mse HTTP/1.1\" 200 -\n",
      "10.0.20.121 - - [27/Oct/2024 01:33:48] \"GET /get_mse HTTP/1.1\" 200 -\n",
      "10.0.20.121 - - [27/Oct/2024 01:33:48] \"GET /get_mse HTTP/1.1\" 200 -\n"
     ]
    },
    {
     "name": "stdout",
     "output_type": "stream",
     "text": [
      "Latest MSE: 0.5225935578346252\n",
      "Latest MSE: 0.5134268999099731\n"
     ]
    },
    {
     "name": "stderr",
     "output_type": "stream",
     "text": [
      "10.0.20.121 - - [27/Oct/2024 01:33:49] \"GET /get_mse HTTP/1.1\" 200 -\n",
      "10.0.20.121 - - [27/Oct/2024 01:33:49] \"GET /get_mse HTTP/1.1\" 200 -\n",
      "10.0.20.121 - - [27/Oct/2024 01:33:49] \"GET /get_mse HTTP/1.1\" 200 -\n",
      "10.0.20.121 - - [27/Oct/2024 01:33:49] \"GET /get_mse HTTP/1.1\" 200 -\n",
      "10.0.20.121 - - [27/Oct/2024 01:33:49] \"GET /get_mse HTTP/1.1\" 200 -\n",
      "10.0.20.121 - - [27/Oct/2024 01:33:49] \"GET /get_mse HTTP/1.1\" 200 -\n"
     ]
    },
    {
     "name": "stdout",
     "output_type": "stream",
     "text": [
      "Latest MSE: 0.5705405473709106\n"
     ]
    },
    {
     "name": "stderr",
     "output_type": "stream",
     "text": [
      "10.0.20.121 - - [27/Oct/2024 01:33:51] \"GET /get_mse HTTP/1.1\" 200 -\n",
      "10.0.20.121 - - [27/Oct/2024 01:33:51] \"GET /get_mse HTTP/1.1\" 200 -\n",
      "10.0.20.121 - - [27/Oct/2024 01:33:51] \"GET /get_mse HTTP/1.1\" 200 -\n",
      "10.0.20.121 - - [27/Oct/2024 01:33:51] \"GET /get_mse HTTP/1.1\" 200 -\n",
      "10.0.20.121 - - [27/Oct/2024 01:33:51] \"GET /get_mse HTTP/1.1\" 200 -\n",
      "10.0.20.121 - - [27/Oct/2024 01:33:51] \"GET /get_mse HTTP/1.1\" 200 -\n"
     ]
    },
    {
     "name": "stdout",
     "output_type": "stream",
     "text": [
      "Latest MSE: 0.52130526304245\n",
      "Latest MSE: 0.5170964598655701\n",
      "Latest MSE: 0.5198565721511841\n"
     ]
    },
    {
     "name": "stderr",
     "output_type": "stream",
     "text": [
      "10.0.20.121 - - [27/Oct/2024 01:33:54] \"GET /get_mse HTTP/1.1\" 200 -\n",
      "10.0.20.121 - - [27/Oct/2024 01:33:54] \"GET /get_mse HTTP/1.1\" 200 -\n",
      "10.0.20.121 - - [27/Oct/2024 01:33:54] \"GET /get_mse HTTP/1.1\" 200 -\n",
      "10.0.20.121 - - [27/Oct/2024 01:33:54] \"GET /get_mse HTTP/1.1\" 200 -\n",
      "10.0.20.121 - - [27/Oct/2024 01:33:54] \"GET /get_mse HTTP/1.1\" 200 -\n",
      "10.0.20.121 - - [27/Oct/2024 01:33:54] \"GET /get_mse HTTP/1.1\" 200 -\n"
     ]
    },
    {
     "name": "stdout",
     "output_type": "stream",
     "text": [
      "Latest MSE: 0.4845324754714966\n"
     ]
    },
    {
     "name": "stderr",
     "output_type": "stream",
     "text": [
      "10.0.20.121 - - [27/Oct/2024 01:33:55] \"GET /get_mse HTTP/1.1\" 200 -\n",
      "10.0.20.121 - - [27/Oct/2024 01:33:55] \"GET /get_mse HTTP/1.1\" 200 -\n",
      "10.0.20.121 - - [27/Oct/2024 01:33:55] \"GET /get_mse HTTP/1.1\" 200 -\n",
      "10.0.20.121 - - [27/Oct/2024 01:33:55] \"GET /get_mse HTTP/1.1\" 200 -\n",
      "10.0.20.121 - - [27/Oct/2024 01:33:55] \"GET /get_mse HTTP/1.1\" 200 -\n",
      "10.0.20.121 - - [27/Oct/2024 01:33:55] \"GET /get_mse HTTP/1.1\" 200 -\n"
     ]
    },
    {
     "name": "stdout",
     "output_type": "stream",
     "text": [
      "Latest MSE: 0.5168081521987915\n"
     ]
    },
    {
     "name": "stdout",
     "output_type": "stream",
     "text": [
      "Latest MSE: 0.5327398180961609\n",
      "Latest MSE: 0.5029152035713196\n",
      "Latest MSE: 0.5030854344367981\n",
      "Latest MSE: 0.5511385798454285\n",
      "Latest MSE: 0.5241408944129944\n",
      "Latest MSE: 0.5064858794212341\n",
      "Latest MSE: 0.527363657951355\n",
      "Latest MSE: 0.5422964096069336\n",
      "Latest MSE: 0.5137836933135986\n",
      "Latest MSE: 0.5243823528289795\n",
      "Latest MSE: 0.5264840722084045\n",
      "Latest MSE: 0.5193078517913818\n",
      "Latest MSE: 0.5223009586334229\n",
      "Latest MSE: 0.46571680903434753\n",
      "Latest MSE: 0.5294600129127502\n",
      "Latest MSE: 0.5133415460586548\n",
      "Latest MSE: 0.498892605304718\n",
      "Latest MSE: 0.5287692546844482\n",
      "Latest MSE: 0.5000757575035095\n",
      "Latest MSE: 0.530951738357544\n",
      "Latest MSE: 0.514231264591217\n",
      "Latest MSE: 0.515406608581543\n",
      "Latest MSE: 0.5325338840484619\n",
      "Latest MSE: 0.5365896821022034\n",
      "Latest MSE: 0.5134990215301514\n",
      "Latest MSE: 0.5367869734764099\n",
      "Latest MSE: 0.5212730765342712\n",
      "Latest MSE: 0.4974510967731476\n",
      "Latest MSE: 0.5530520081520081\n",
      "Latest MSE: 0.5328093767166138\n",
      "Latest MSE: 0.528690755367279\n",
      "Latest MSE: 0.5236771106719971\n",
      "Latest MSE: 0.4923538267612457\n",
      "Latest MSE: 0.506994366645813\n",
      "Latest MSE: 0.4963008761405945\n",
      "Latest MSE: 0.4837155044078827\n",
      "Latest MSE: 0.5471364855766296\n",
      "Latest MSE: 0.5299694538116455\n",
      "Latest MSE: 0.523931086063385\n",
      "Latest MSE: 0.5055972337722778\n",
      "Latest MSE: 0.5376407504081726\n",
      "Latest MSE: 0.4910951852798462\n",
      "Latest MSE: 0.511403501033783\n",
      "Latest MSE: 0.5174423456192017\n",
      "Latest MSE: 0.556011438369751\n",
      "Latest MSE: 0.5063166618347168\n",
      "Latest MSE: 0.5248448848724365\n",
      "Latest MSE: 0.5188553333282471\n",
      "Latest MSE: 0.49904197454452515\n",
      "Latest MSE: 0.48982909321784973\n",
      "Latest MSE: 0.5220208168029785\n",
      "Latest MSE: 0.5018061399459839\n",
      "Latest MSE: 0.498481422662735\n",
      "Latest MSE: 0.5197770595550537\n",
      "Latest MSE: 0.49816668033599854\n",
      "Latest MSE: 0.5414590239524841\n",
      "Latest MSE: 0.5093058943748474\n",
      "Latest MSE: 0.5674839019775391\n",
      "Latest MSE: 0.5426868200302124\n",
      "Latest MSE: 0.551115870475769\n",
      "Latest MSE: 0.5358709692955017\n",
      "Latest MSE: 0.4632977247238159\n",
      "Latest MSE: 0.543211817741394\n",
      "Latest MSE: 0.5421342849731445\n",
      "Latest MSE: 0.5471834540367126\n",
      "Latest MSE: 0.5376061797142029\n",
      "Latest MSE: 0.5082089304924011\n",
      "Latest MSE: 0.5205441117286682\n",
      "Latest MSE: 0.5406742095947266\n",
      "Latest MSE: 0.4936142563819885\n",
      "Latest MSE: 0.5521694421768188\n",
      "Latest MSE: 0.5432773232460022\n",
      "Latest MSE: 0.5123093128204346\n",
      "Latest MSE: 0.5286241173744202\n",
      "Latest MSE: 0.4930858612060547\n",
      "Latest MSE: 0.5527060031890869\n",
      "Latest MSE: 0.5236639976501465\n",
      "Latest MSE: 0.4748735725879669\n",
      "Latest MSE: 0.5056169033050537\n",
      "Latest MSE: 0.4934771656990051\n",
      "Latest MSE: 0.5095418095588684\n",
      "Latest MSE: 0.5070658326148987\n",
      "Latest MSE: 0.4835580289363861\n",
      "Latest MSE: 0.5364277958869934\n",
      "Latest MSE: 0.5076268911361694\n",
      "Latest MSE: 0.5185874700546265\n",
      "Latest MSE: 0.5223433375358582\n",
      "Latest MSE: 0.512481153011322\n",
      "Latest MSE: 0.553418755531311\n",
      "Latest MSE: 0.5064404010772705\n",
      "Latest MSE: 0.514519989490509\n",
      "Latest MSE: 0.5510900616645813\n",
      "Latest MSE: 0.5044981837272644\n",
      "Latest MSE: 0.5202799439430237\n",
      "Latest MSE: 0.5251388549804688\n",
      "Latest MSE: 0.5321061611175537\n",
      "Latest MSE: 0.5267655849456787\n",
      "Latest MSE: 0.513450026512146\n",
      "Latest MSE: 0.5379809141159058\n",
      "Latest MSE: 0.5108035206794739\n",
      "Latest MSE: 0.49589937925338745\n",
      "Latest MSE: 0.5463770031929016\n",
      "Latest MSE: 0.4822765290737152\n",
      "Latest MSE: 0.529229998588562\n",
      "Latest MSE: 0.49357491731643677\n",
      "Latest MSE: 0.518045961856842\n",
      "Latest MSE: 0.526086151599884\n",
      "Latest MSE: 0.5224992632865906\n",
      "Latest MSE: 0.5019301772117615\n",
      "Latest MSE: 0.5260447859764099\n",
      "Latest MSE: 0.5133861899375916\n",
      "Latest MSE: 0.5554313063621521\n",
      "Latest MSE: 0.5390855073928833\n",
      "Latest MSE: 0.5132204294204712\n",
      "Latest MSE: 0.5008544325828552\n",
      "Latest MSE: 0.5025647878646851\n",
      "Latest MSE: 0.5237152576446533\n",
      "Latest MSE: 0.5283977389335632\n",
      "Latest MSE: 0.4978031814098358\n",
      "Latest MSE: 0.4981335997581482\n",
      "Latest MSE: 0.49369925260543823\n",
      "Latest MSE: 0.5435815453529358\n",
      "Latest MSE: 0.4969389736652374\n",
      "Latest MSE: 0.560947060585022\n",
      "Latest MSE: 0.5237782001495361\n",
      "Latest MSE: 0.5110423564910889\n",
      "Latest MSE: 0.502877414226532\n",
      "Latest MSE: 0.5094824433326721\n",
      "Latest MSE: 0.524290144443512\n",
      "Latest MSE: 0.5251228213310242\n",
      "Latest MSE: 0.5293514132499695\n",
      "Latest MSE: 0.49921658635139465\n",
      "Latest MSE: 0.5516501665115356\n",
      "Latest MSE: 0.5106229186058044\n",
      "Latest MSE: 0.5058845281600952\n",
      "Latest MSE: 0.5092896223068237\n",
      "Latest MSE: 0.5218337774276733\n",
      "Latest MSE: 0.5175464749336243\n",
      "Latest MSE: 0.5090969204902649\n",
      "Latest MSE: 0.4956854581832886\n",
      "Latest MSE: 0.5365194082260132\n",
      "Latest MSE: 0.5422192811965942\n",
      "Latest MSE: 0.5456725358963013\n",
      "Latest MSE: 0.5235084295272827\n",
      "Latest MSE: 0.5236945748329163\n",
      "Latest MSE: 0.5245082974433899\n",
      "Latest MSE: 0.512306272983551\n",
      "Latest MSE: 0.5391165018081665\n",
      "Latest MSE: 0.5053018927574158\n",
      "Latest MSE: 0.5292383432388306\n",
      "Latest MSE: 0.5530601739883423\n",
      "Latest MSE: 0.5203567147254944\n",
      "Latest MSE: 0.49404194951057434\n",
      "Latest MSE: 0.5306607484817505\n",
      "Latest MSE: 0.5101059079170227\n",
      "Latest MSE: 0.5474793910980225\n",
      "Latest MSE: 0.5359299778938293\n",
      "Latest MSE: 0.5167526006698608\n",
      "Latest MSE: 0.525584876537323\n",
      "Latest MSE: 0.5057148337364197\n",
      "Latest MSE: 0.5220013856887817\n",
      "Latest MSE: 0.481780469417572\n",
      "Latest MSE: 0.5334298014640808\n",
      "Latest MSE: 0.5218645334243774\n",
      "Latest MSE: 0.5399805903434753\n",
      "Latest MSE: 0.4812496602535248\n",
      "Latest MSE: 0.5293055176734924\n",
      "Latest MSE: 0.5431190729141235\n",
      "Latest MSE: 0.5143143534660339\n",
      "Latest MSE: 0.5079295635223389\n",
      "Latest MSE: 0.48655828833580017\n",
      "Latest MSE: 0.546985924243927\n",
      "Latest MSE: 0.5274212956428528\n",
      "Latest MSE: 0.5508190393447876\n",
      "Latest MSE: 0.5040246248245239\n",
      "Latest MSE: 0.546005129814148\n",
      "Latest MSE: 0.5634739398956299\n",
      "Latest MSE: 0.5140539407730103\n",
      "Latest MSE: 0.476087361574173\n",
      "Latest MSE: 0.5186092853546143\n",
      "Latest MSE: 0.518547773361206\n",
      "Latest MSE: 0.512265682220459\n",
      "Latest MSE: 0.5219306349754333\n",
      "Latest MSE: 0.5340443253517151\n",
      "Latest MSE: 0.5138504505157471\n",
      "Latest MSE: 0.5261132717132568\n",
      "Latest MSE: 0.5235155820846558\n",
      "Latest MSE: 0.540099561214447\n",
      "Latest MSE: 0.5210164785385132\n",
      "Latest MSE: 0.48239046335220337\n",
      "Latest MSE: 0.5211281180381775\n",
      "Latest MSE: 0.5181922316551208\n",
      "Latest MSE: 0.5420693755149841\n",
      "Latest MSE: 0.5074411034584045\n",
      "Latest MSE: 0.5034769773483276\n",
      "Latest MSE: 0.5237451791763306\n",
      "Latest MSE: 0.5418244004249573\n",
      "Latest MSE: 0.5185980200767517\n",
      "Latest MSE: 0.552837610244751\n",
      "Latest MSE: 0.5219079852104187\n",
      "Latest MSE: 0.5187371373176575\n",
      "Latest MSE: 0.5542367696762085\n",
      "Latest MSE: 0.5056555271148682\n",
      "Latest MSE: 0.537724494934082\n",
      "Latest MSE: 0.5426406264305115\n",
      "Latest MSE: 0.5156681537628174\n",
      "Latest MSE: 0.5003775358200073\n",
      "Latest MSE: 0.5312908291816711\n",
      "Latest MSE: 0.5334537029266357\n",
      "Latest MSE: 0.49894577264785767\n",
      "Latest MSE: 0.5343912839889526\n",
      "Latest MSE: 0.5371322631835938\n",
      "Latest MSE: 0.48783692717552185\n",
      "Latest MSE: 0.5561953186988831\n",
      "Latest MSE: 0.521324872970581\n",
      "Latest MSE: 0.5260697603225708\n",
      "Latest MSE: 0.542245626449585\n",
      "Latest MSE: 0.5494335889816284\n",
      "Latest MSE: 0.5353655219078064\n",
      "Latest MSE: 0.5250623822212219\n",
      "Latest MSE: 0.5219390392303467\n",
      "Latest MSE: 0.545509934425354\n",
      "Latest MSE: 0.4857344925403595\n",
      "Latest MSE: 0.5335666537284851\n",
      "Latest MSE: 0.5257678627967834\n",
      "Latest MSE: 0.4999846816062927\n",
      "Latest MSE: 0.5300895571708679\n",
      "Latest MSE: 0.5465763807296753\n",
      "Latest MSE: 0.5393861532211304\n",
      "Latest MSE: 0.4630434215068817\n",
      "Latest MSE: 0.5341470837593079\n",
      "Latest MSE: 0.4954845607280731\n",
      "Latest MSE: 0.5090141892433167\n",
      "Latest MSE: 0.5237656235694885\n",
      "Latest MSE: 0.5167142748832703\n",
      "Latest MSE: 0.5274634957313538\n",
      "Latest MSE: 0.49426841735839844\n",
      "Latest MSE: 0.5223211646080017\n",
      "Latest MSE: 0.5343011021614075\n",
      "Latest MSE: 0.5272605419158936\n",
      "Latest MSE: 0.4944254755973816\n",
      "Latest MSE: 0.5174703598022461\n",
      "Latest MSE: 0.5313711166381836\n",
      "Latest MSE: 0.4758661985397339\n",
      "Latest MSE: 0.5134992003440857\n",
      "Latest MSE: 0.49417850375175476\n",
      "Latest MSE: 0.5076371431350708\n",
      "Latest MSE: 0.5316895842552185\n",
      "Latest MSE: 0.5425102710723877\n",
      "Latest MSE: 0.5060306787490845\n",
      "Latest MSE: 0.5164234042167664\n",
      "Latest MSE: 0.5210282206535339\n",
      "Latest MSE: 0.5257001519203186\n",
      "Latest MSE: 0.5446917414665222\n",
      "Latest MSE: 0.5326920747756958\n",
      "Latest MSE: 0.5455664396286011\n",
      "Latest MSE: 0.5345677733421326\n",
      "Latest MSE: 0.49580511450767517\n",
      "Latest MSE: 0.5189098119735718\n",
      "Latest MSE: 0.5364629626274109\n",
      "Latest MSE: 0.5233460664749146\n",
      "Latest MSE: 0.49482929706573486\n",
      "Latest MSE: 0.5022534728050232\n",
      "Latest MSE: 0.518021285533905\n",
      "Latest MSE: 0.5091592669487\n",
      "Latest MSE: 0.5445258617401123\n",
      "Latest MSE: 0.5307645201683044\n",
      "Latest MSE: 0.49936527013778687\n",
      "Latest MSE: 0.520835816860199\n",
      "Latest MSE: 0.5369192361831665\n",
      "Latest MSE: 0.5190746784210205\n",
      "Latest MSE: 0.5290799140930176\n",
      "Latest MSE: 0.5107847452163696\n",
      "Latest MSE: 0.5251778364181519\n",
      "Latest MSE: 0.5389843583106995\n",
      "Latest MSE: 0.5220951437950134\n",
      "Latest MSE: 0.5299398303031921\n",
      "Latest MSE: 0.5041486620903015\n",
      "Latest MSE: 0.5579485297203064\n",
      "Latest MSE: 0.5609556436538696\n",
      "Latest MSE: 0.5282275080680847\n",
      "Latest MSE: 0.5492313504219055\n",
      "Latest MSE: 0.4987320601940155\n",
      "Latest MSE: 0.5427678227424622\n",
      "Latest MSE: 0.4983660876750946\n",
      "Latest MSE: 0.5374698638916016\n",
      "Latest MSE: 0.49193087220191956\n",
      "Latest MSE: 0.5169907808303833\n",
      "Latest MSE: 0.49599897861480713\n",
      "Latest MSE: 0.4931395947933197\n",
      "Latest MSE: 0.5078887939453125\n",
      "Latest MSE: 0.5062013268470764\n",
      "Latest MSE: 0.4958009719848633\n",
      "Latest MSE: 0.5345099568367004\n",
      "Latest MSE: 0.5478352904319763\n",
      "Latest MSE: 0.5019392371177673\n",
      "Latest MSE: 0.5196062922477722\n",
      "Latest MSE: 0.5244337320327759\n",
      "Latest MSE: 0.54791259765625\n",
      "Latest MSE: 0.5033009052276611\n",
      "Latest MSE: 0.5344265699386597\n",
      "Latest MSE: 0.560208261013031\n",
      "Latest MSE: 0.5029391646385193\n",
      "Latest MSE: 0.4804808795452118\n",
      "Latest MSE: 0.5391398668289185\n",
      "Latest MSE: 0.5040372014045715\n",
      "Latest MSE: 0.4978800117969513\n",
      "Latest MSE: 0.5266786813735962\n",
      "Latest MSE: 0.5087028741836548\n",
      "Latest MSE: 0.5212944149971008\n",
      "Latest MSE: 0.5044496655464172\n",
      "Latest MSE: 0.5091162323951721\n",
      "Latest MSE: 0.5461562871932983\n",
      "Latest MSE: 0.5406530499458313\n",
      "Latest MSE: 0.5366130471229553\n",
      "Latest MSE: 0.5262283086776733\n",
      "Latest MSE: 0.5272171497344971\n",
      "Latest MSE: 0.5101376175880432\n",
      "Latest MSE: 0.525176465511322\n",
      "Latest MSE: 0.5233818292617798\n",
      "Latest MSE: 0.533619225025177\n",
      "Latest MSE: 0.5218315124511719\n",
      "Latest MSE: 0.5218948125839233\n",
      "Latest MSE: 0.4807215929031372\n",
      "Latest MSE: 0.5192559361457825\n",
      "Latest MSE: 0.5156262516975403\n",
      "Latest MSE: 0.5189268589019775\n",
      "Latest MSE: 0.5094929933547974\n",
      "Latest MSE: 0.514710009098053\n",
      "Latest MSE: 0.5429210066795349\n",
      "Latest MSE: 0.5199028849601746\n",
      "Latest MSE: 0.49865224957466125\n",
      "Latest MSE: 0.5347912907600403\n",
      "Latest MSE: 0.5019517540931702\n",
      "Latest MSE: 0.5396972298622131\n",
      "Latest MSE: 0.4982328414916992\n",
      "Latest MSE: 0.5224301218986511\n",
      "Latest MSE: 0.5214534997940063\n",
      "Latest MSE: 0.5405896306037903\n",
      "Latest MSE: 0.5153858065605164\n",
      "Latest MSE: 0.530522882938385\n",
      "Latest MSE: 0.49974632263183594\n",
      "Latest MSE: 0.5556384921073914\n",
      "Latest MSE: 0.526894748210907\n",
      "Latest MSE: 0.5324013829231262\n",
      "Latest MSE: 0.5309333205223083\n",
      "Latest MSE: 0.5088009834289551\n",
      "Latest MSE: 0.505559504032135\n",
      "Latest MSE: 0.5199993848800659\n",
      "Latest MSE: 0.5142342448234558\n",
      "Latest MSE: 0.522904098033905\n",
      "Latest MSE: 0.5108922719955444\n",
      "Latest MSE: 0.49294331669807434\n",
      "Latest MSE: 0.5278447270393372\n",
      "Latest MSE: 0.5249526500701904\n",
      "Latest MSE: 0.5146045088768005\n",
      "Latest MSE: 0.5163732767105103\n",
      "Latest MSE: 0.5310970544815063\n",
      "Latest MSE: 0.5313723087310791\n",
      "Latest MSE: 0.49317657947540283\n",
      "Latest MSE: 0.5005847811698914\n",
      "Latest MSE: 0.5174593925476074\n",
      "Latest MSE: 0.5144549012184143\n",
      "Latest MSE: 0.5319607853889465\n",
      "Latest MSE: 0.4945840835571289\n",
      "Latest MSE: 0.49114924669265747\n",
      "Latest MSE: 0.5532094240188599\n",
      "Latest MSE: 0.5338289141654968\n",
      "Latest MSE: 0.5207424759864807\n",
      "Latest MSE: 0.4998112916946411\n",
      "Latest MSE: 0.5437377095222473\n",
      "Latest MSE: 0.5250141024589539\n",
      "Latest MSE: 0.49348488450050354\n",
      "Latest MSE: 0.5152318477630615\n",
      "Latest MSE: 0.5072994828224182\n",
      "Latest MSE: 0.5364638566970825\n",
      "Latest MSE: 0.4953904449939728\n",
      "Latest MSE: 0.4970789849758148\n",
      "Latest MSE: 0.5113860368728638\n",
      "Latest MSE: 0.49920767545700073\n",
      "Latest MSE: 0.5431451201438904\n",
      "Latest MSE: 0.5187285542488098\n",
      "Latest MSE: 0.4880705177783966\n",
      "Latest MSE: 0.5150073170661926\n",
      "Latest MSE: 0.47845694422721863\n",
      "Latest MSE: 0.5175553560256958\n",
      "Latest MSE: 0.5098514556884766\n",
      "Latest MSE: 0.5515860915184021\n",
      "Latest MSE: 0.49172890186309814\n",
      "Latest MSE: 0.5284329652786255\n",
      "Latest MSE: 0.49411118030548096\n",
      "Latest MSE: 0.536760687828064\n",
      "Latest MSE: 0.4996098279953003\n",
      "Latest MSE: 0.5422711968421936\n",
      "Latest MSE: 0.5127860903739929\n",
      "Latest MSE: 0.5425443053245544\n",
      "Latest MSE: 0.5194841623306274\n",
      "Latest MSE: 0.5015761256217957\n",
      "Latest MSE: 0.5135712027549744\n",
      "Latest MSE: 0.5310864448547363\n",
      "Latest MSE: 0.5596611499786377\n",
      "Latest MSE: 0.528160035610199\n",
      "Latest MSE: 0.5414344668388367\n",
      "Latest MSE: 0.49533045291900635\n",
      "Latest MSE: 0.49182838201522827\n",
      "Latest MSE: 0.5142045021057129\n",
      "Latest MSE: 0.5115464925765991\n",
      "Latest MSE: 0.528306782245636\n",
      "Latest MSE: 0.5369269251823425\n",
      "Latest MSE: 0.5308745503425598\n",
      "Latest MSE: 0.5345439314842224\n",
      "Latest MSE: 0.5281182527542114\n",
      "Latest MSE: 0.5173085927963257\n",
      "Latest MSE: 0.5424892902374268\n",
      "Latest MSE: 0.5249415040016174\n",
      "Latest MSE: 0.5069760084152222\n",
      "Latest MSE: 0.5153856873512268\n",
      "Latest MSE: 0.47886016964912415\n",
      "Latest MSE: 0.49552109837532043\n",
      "Latest MSE: 0.5401503443717957\n",
      "Latest MSE: 0.5069490075111389\n",
      "Latest MSE: 0.48886242508888245\n",
      "Latest MSE: 0.5630972981452942\n",
      "Latest MSE: 0.5443408489227295\n",
      "Latest MSE: 0.48612067103385925\n",
      "Latest MSE: 0.5052360892295837\n",
      "Latest MSE: 0.5139734148979187\n",
      "Latest MSE: 0.5114927887916565\n",
      "Latest MSE: 0.5164299011230469\n",
      "Latest MSE: 0.4832032322883606\n",
      "Latest MSE: 0.4956955313682556\n",
      "Latest MSE: 0.5211915969848633\n",
      "Latest MSE: 0.515756368637085\n",
      "Latest MSE: 0.5298317074775696\n",
      "Latest MSE: 0.5243781208992004\n",
      "Latest MSE: 0.5359823703765869\n",
      "Latest MSE: 0.5022233128547668\n",
      "Latest MSE: 0.5101033449172974\n",
      "Latest MSE: 0.488214910030365\n",
      "Latest MSE: 0.5085029602050781\n",
      "Latest MSE: 0.5211659073829651\n",
      "Latest MSE: 0.5283316969871521\n",
      "Latest MSE: 0.48672744631767273\n",
      "Latest MSE: 0.5331602692604065\n",
      "Latest MSE: 0.5148932933807373\n",
      "Latest MSE: 0.5370815992355347\n",
      "Latest MSE: 0.5084749460220337\n",
      "Latest MSE: 0.523038923740387\n",
      "Latest MSE: 0.5039032697677612\n",
      "Latest MSE: 0.544096827507019\n",
      "Latest MSE: 0.5391465425491333\n",
      "Latest MSE: 0.5293553471565247\n",
      "Latest MSE: 0.5461710095405579\n",
      "Latest MSE: 0.5110884308815002\n",
      "Latest MSE: 0.5473869442939758\n",
      "Latest MSE: 0.5090011358261108\n",
      "Latest MSE: 0.5131230354309082\n",
      "Latest MSE: 0.5325510501861572\n",
      "Latest MSE: 0.5091763734817505\n",
      "Latest MSE: 0.5443791747093201\n",
      "Latest MSE: 0.5276680588722229\n",
      "Latest MSE: 0.5167683362960815\n",
      "Latest MSE: 0.5131390690803528\n",
      "Latest MSE: 0.5101088881492615\n",
      "Latest MSE: 0.5042614340782166\n",
      "Latest MSE: 0.5336817502975464\n",
      "Latest MSE: 0.5638730525970459\n",
      "Latest MSE: 0.5051259994506836\n",
      "Latest MSE: 0.5180779099464417\n",
      "Latest MSE: 0.5207902193069458\n",
      "Latest MSE: 0.5266162753105164\n",
      "Latest MSE: 0.5078920722007751\n",
      "Latest MSE: 0.49610620737075806\n",
      "Latest MSE: 0.5113064050674438\n",
      "Latest MSE: 0.5242268443107605\n",
      "Latest MSE: 0.5149904489517212\n",
      "Latest MSE: 0.49541157484054565\n",
      "Latest MSE: 0.5102565288543701\n",
      "Latest MSE: 0.5022967457771301\n",
      "Latest MSE: 0.5001029968261719\n",
      "Latest MSE: 0.4990851581096649\n",
      "Latest MSE: 0.5479300618171692\n",
      "Latest MSE: 0.5245587825775146\n",
      "Latest MSE: 0.5036303997039795\n",
      "Latest MSE: 0.5266731977462769\n",
      "Latest MSE: 0.5194200277328491\n",
      "Latest MSE: 0.5016347169876099\n",
      "Latest MSE: 0.5425698161125183\n",
      "Latest MSE: 0.5010074973106384\n",
      "Latest MSE: 0.541634202003479\n",
      "Latest MSE: 0.5464194416999817\n"
     ]
    }
   ],
   "source": [
    "# server_mse_stream.py (run this on Laptop A)\n",
    "\n",
    "import numpy as np\n",
    "import torch\n",
    "import torch.nn as nn\n",
    "from collections import deque\n",
    "import time\n",
    "from flask import Flask, jsonify\n",
    "import threading\n",
    "\n",
    "# Initialize Flask app\n",
    "app = Flask(__name__)\n",
    "latest_mse = None  # Global variable to store the latest MSE value\n",
    "latest_prediction = None  # Global variable to store the latest prediction\n",
    "latest_target = None  # Global variable to store the latest actual target\n",
    "\n",
    "# Define the LSTM model for live anomaly detection\n",
    "class LSTMModel(nn.Module):\n",
    "    def __init__(self, input_size=3, hidden_size=50, output_size=3 * 20):\n",
    "        super(LSTMModel, self).__init__()\n",
    "        self.lstm1 = nn.LSTM(input_size, hidden_size, batch_first=True)\n",
    "        self.lstm2 = nn.LSTM(hidden_size, hidden_size, batch_first=True)\n",
    "        self.fc = nn.Linear(hidden_size, output_size)\n",
    "\n",
    "    def forward(self, x):\n",
    "        x, _ = self.lstm1(x)\n",
    "        x, _ = self.lstm2(x)\n",
    "        x = x[:, -1, :]\n",
    "        x = self.fc(x)\n",
    "        return x\n",
    "\n",
    "# Initialize model, criterion, and optimizer\n",
    "input_length = 80\n",
    "output_length = 20\n",
    "model = LSTMModel()\n",
    "criterion = nn.MSELoss()\n",
    "optimizer = torch.optim.Adam(model.parameters(), lr=0.001)\n",
    "threshold = 0.25\n",
    "streaming_data_buffer = deque(maxlen=input_length + output_length)\n",
    "\n",
    "# Generate synthetic vibrational data\n",
    "def get_live_vibration_data(time_steps=100, noise_level=0.1, fault=False):\n",
    "    t = np.linspace(0, 10, time_steps)\n",
    "    frequency = 0.5\n",
    "    if fault:\n",
    "        stretch_factor = 3 * np.linspace(0, 1, time_steps)\n",
    "        x = np.sin(2 * np.pi * frequency * t * stretch_factor) + noise_level * np.random.randn(time_steps)\n",
    "        y = np.sin(2 * np.pi * frequency * t * stretch_factor + np.pi / 4) + noise_level * np.random.randn(time_steps)\n",
    "        z = np.sin(2 * np.pi * frequency * t * stretch_factor + np.pi / 2) + noise_level * np.random.randn(time_steps)\n",
    "    else:\n",
    "        x = np.sin(2 * np.pi * frequency * t) + noise_level * np.random.randn(time_steps)\n",
    "        y = np.sin(2 * np.pi * frequency * t + np.pi / 4) + noise_level * np.random.randn(time_steps)\n",
    "        z = np.sin(2 * np.pi * frequency * t + np.pi / 2) + noise_level * np.random.randn(time_steps)\n",
    "    return np.stack([x, y, z], axis=-1)\n",
    "\n",
    "# Flask route to retrieve the latest MSE, prediction, and target\n",
    "@app.route('/get_mse', methods=['GET'])\n",
    "def get_mse():\n",
    "    return jsonify({\n",
    "        'mse': latest_mse,\n",
    "        'prediction': latest_prediction.tolist() if latest_prediction is not None else None,\n",
    "        'target': latest_target.tolist() if latest_target is not None else None\n",
    "    })\n",
    "\n",
    "# Background thread to run live anomaly detection\n",
    "def run_anomaly_detection():\n",
    "    global latest_mse, latest_prediction, latest_target\n",
    "    while True:\n",
    "        new_data = get_live_vibration_data(fault=np.random.rand() < 0.1)  # 10% chance of fault\n",
    "        streaming_data_buffer.extend(new_data)\n",
    "        if len(streaming_data_buffer) >= input_length + output_length:\n",
    "            current_window = torch.tensor([list(streaming_data_buffer)[:input_length]], dtype=torch.float32)\n",
    "            with torch.no_grad():\n",
    "                prediction = model(current_window)\n",
    "                target = torch.tensor([list(streaming_data_buffer)[input_length:]], dtype=torch.float32).reshape(1, -1)\n",
    "                mse = criterion(prediction, target).item()\n",
    "\n",
    "                # Store the latest prediction and target\n",
    "                latest_prediction = prediction.numpy()\n",
    "                latest_target = target.numpy()\n",
    "\n",
    "            latest_mse = mse\n",
    "            print(f\"Latest MSE: {latest_mse}\")  # Print for server logs\n",
    "            for _ in range(output_length):\n",
    "                streaming_data_buffer.popleft()\n",
    "        time.sleep(1)\n",
    "\n",
    "# Start the background anomaly detection thread\n",
    "anomaly_thread = threading.Thread(target=run_anomaly_detection)\n",
    "anomaly_thread.start()\n",
    "\n",
    "# Run Flask server\n",
    "if __name__ == '__main__':\n",
    "    app.run(host='0.0.0.0', port=5001)\n"
   ]
  },
  {
   "cell_type": "code",
   "execution_count": null,
   "metadata": {},
   "outputs": [],
   "source": [
    "import pandas as pd\n",
    "import numpy as np\n",
    "import torch\n",
    "import torch.nn as nn\n",
    "import torch.optim as optim\n",
    "from sklearn.preprocessing import MinMaxScaler\n",
    "from sklearn.model_selection import train_test_split\n",
    "import matplotlib.pyplot as plt\n",
    "\n",
    "# Load the synthetic vibrational data\n",
    "df = pd.read_csv('fault_data.csv')\n",
    "\n",
    "# Extract features and reshape to [samples, time_steps, features]\n",
    "data = df.iloc[:, :-1].values.reshape(-1, 100, 3)  # Reshape to [samples, 100, 3]\n",
    "\n",
    "# Normalize the data\n",
    "scaler = MinMaxScaler(feature_range=(0, 1))\n",
    "data_scaled = scaler.fit_transform(data.reshape(-1, 3)).reshape(-1, 100, 3)\n",
    "\n",
    "# Prepare input-output pairs for the autoencoder\n",
    "X_seq = data_scaled  # Use the same data for input\n",
    "X_train, X_test = train_test_split(X_seq, test_size=0.2, random_state=42)\n",
    "\n",
    "# Convert data to PyTorch tensors\n",
    "X_train_tensor = torch.tensor(X_train, dtype=torch.float32)\n",
    "X_test_tensor = torch.tensor(X_test, dtype=torch.float32)\n",
    "\n",
    "# Define the enhanced Autoencoder model with convolutional layers\n",
    "class EnhancedAutoencoder(nn.Module):\n",
    "    def __init__(self):\n",
    "        super(EnhancedAutoencoder, self).__init__()\n",
    "        self.encoder = nn.Sequential(\n",
    "            nn.Conv1d(3, 16, kernel_size=3, stride=1, padding=1),  # Input shape: [batch, 3, 100]\n",
    "            nn.ReLU(),\n",
    "            nn.MaxPool1d(kernel_size=2, stride=2),  # Downsample\n",
    "            nn.Conv1d(16, 32, kernel_size=3, stride=1, padding=1),\n",
    "            nn.ReLU(),\n",
    "            nn.MaxPool1d(kernel_size=2, stride=2),\n",
    "            nn.Flatten()  # Flatten for the dense layer\n",
    "        )\n",
    "        self.decoder = nn.Sequential(\n",
    "            nn.Linear(32 * 25, 128),\n",
    "            nn.ReLU(),\n",
    "            nn.Linear(128, 32 * 50),\n",
    "            nn.ReLU(),\n",
    "            nn.Unflatten(1, (32, 50)),  # Reshape back\n",
    "            nn.ConvTranspose1d(32, 16, kernel_size=2, stride=2),  # Upsample\n",
    "            nn.ReLU(),\n",
    "            nn.ConvTranspose1d(16, 3, kernel_size=2, stride=2),  # Final output\n",
    "            nn.Sigmoid()  # Use sigmoid to match the normalized range\n",
    "        )\n",
    "\n",
    "    def forward(self, x):\n",
    "        encoded = self.encoder(x.permute(0, 2, 1))  # Change shape to [batch, features, time]\n",
    "        decoded = self.decoder(encoded)\n",
    "        return decoded.permute(0, 2, 1)  # Change back to [batch, time, features]\n",
    "\n",
    "# Instantiate the model, define loss function and optimizer\n",
    "model = EnhancedAutoencoder()\n",
    "criterion = nn.MSELoss()\n",
    "optimizer = optim.Adam(model.parameters(), lr=0.001)\n",
    "\n",
    "# Training the Autoencoder\n",
    "num_epochs = 100\n",
    "batch_size = 32  # Increased batch size\n",
    "\n",
    "train_losses = []\n",
    "\n",
    "for epoch in range(num_epochs):\n",
    "    model.train()\n",
    "    epoch_loss = 0\n",
    "    for i in range(0, len(X_train_tensor), batch_size):\n",
    "        batch = X_train_tensor[i:i + batch_size]\n",
    "        optimizer.zero_grad()\n",
    "        outputs = model(batch)\n",
    "        loss = criterion(outputs, batch)\n",
    "        loss.backward()\n",
    "        optimizer.step()\n",
    "\n",
    "        epoch_loss += loss.item()\n",
    "\n",
    "    avg_loss = epoch_loss / (len(X_train_tensor) // batch_size)\n",
    "    train_losses.append(avg_loss)\n",
    "\n",
    "    if (epoch + 1) % 10 == 0:\n",
    "        print(f'Epoch [{epoch + 1}/{num_epochs}], Loss: {avg_loss:.4f}')\n",
    "\n",
    "# Plot training losses\n",
    "plt.plot(train_losses)\n",
    "plt.title('Training Loss Over Epochs')\n",
    "plt.xlabel('Epoch')\n",
    "plt.ylabel('Loss')\n",
    "plt.show()\n",
    "\n",
    "# Evaluate the Autoencoder\n",
    "model.eval()\n",
    "with torch.no_grad():\n",
    "    test_outputs = model(X_test_tensor)\n",
    "    test_loss = criterion(test_outputs, X_test_tensor).item()\n",
    "\n",
    "print(f'Test Reconstruction Loss: {test_loss:.4f}')\n",
    "\n",
    "# Detect anomalies in the test set\n",
    "reconstruction_losses = criterion(test_outputs, X_test_tensor).numpy()\n",
    "threshold = np.percentile(reconstruction_losses, 95)  # Set threshold for anomaly detection\n",
    "\n",
    "# Identify anomalies based on the threshold\n",
    "anomalies = reconstruction_losses > threshold\n",
    "\n",
    "print(f'Number of anomalies detected: {np.sum(anomalies)}')\n"
   ]
  }
 ],
 "metadata": {
  "kernelspec": {
   "display_name": "nlp",
   "language": "python",
   "name": "python3"
  },
  "language_info": {
   "codemirror_mode": {
    "name": "ipython",
    "version": 3
   },
   "file_extension": ".py",
   "mimetype": "text/x-python",
   "name": "python",
   "nbconvert_exporter": "python",
   "pygments_lexer": "ipython3",
   "version": "3.11.5"
  }
 },
 "nbformat": 4,
 "nbformat_minor": 2
}
